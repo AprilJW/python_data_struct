{
 "cells": [
  {
   "cell_type": "code",
   "execution_count": 2,
   "metadata": {},
   "outputs": [],
   "source": [
    "from pythonds.basic import Stack"
   ]
  },
  {
   "cell_type": "code",
   "execution_count": 34,
   "metadata": {},
   "outputs": [
    {
     "name": "stdout",
     "output_type": "stream",
     "text": [
      "==\n"
     ]
    }
   ],
   "source": [
    "ff = Stack()\n",
    "if ff:\n",
    "    print('''==''')"
   ]
  },
  {
   "cell_type": "code",
   "execution_count": 39,
   "metadata": {},
   "outputs": [],
   "source": [
    "# 构建二叉树\n",
    "class BiTreeNode(object):\n",
    "    def __init__(self, data=None, lchild=None, rchild=None):\n",
    "        self.data = data\n",
    "        self.lchild = lchild\n",
    "        self.rchild = rchild"
   ]
  },
  {
   "cell_type": "code",
   "execution_count": 45,
   "metadata": {},
   "outputs": [],
   "source": [
    "k = BiTreeNode('K')\n",
    "h = BiTreeNode('H')\n",
    "g = BiTreeNode('G', lchild=h, rchild=k)\n",
    "f = BiTreeNode('F', lchild=g)\n",
    "e = BiTreeNode('E', rchild=f)\n",
    "d = BiTreeNode('D')\n",
    "c = BiTreeNode('C', lchild=d)\n",
    "b = BiTreeNode('B', rchild=c)\n",
    "a = BiTreeNode('A', lchild=b, rchild=e)"
   ]
  },
  {
   "cell_type": "code",
   "execution_count": null,
   "metadata": {},
   "outputs": [],
   "source": []
  },
  {
   "cell_type": "code",
   "execution_count": 24,
   "metadata": {},
   "outputs": [
    {
     "data": {
      "text/plain": [
       "('C', <__main__.BiTreeNode at 0x109ac2be0>, None)"
      ]
     },
     "execution_count": 24,
     "metadata": {},
     "output_type": "execute_result"
    }
   ],
   "source": [
    "c.data, c.rchild, c.lchild"
   ]
  },
  {
   "cell_type": "code",
   "execution_count": 26,
   "metadata": {},
   "outputs": [
    {
     "data": {
      "text/plain": [
       "('A', 'C', <__main__.BiTreeNode at 0x109ac2080>)"
      ]
     },
     "execution_count": 26,
     "metadata": {},
     "output_type": "execute_result"
    }
   ],
   "source": [
    "a.data, a.rchild.data, a.lchild"
   ]
  },
  {
   "cell_type": "code",
   "execution_count": 35,
   "metadata": {},
   "outputs": [],
   "source": [
    "# 前序遍历\n",
    "def preOrder2(root):\n",
    "    p = root\n",
    "    s = Stack()\n",
    "    #print(p.data)\n",
    "    s.push(p)   \n",
    "    while not s.isEmpty():\n",
    "        p = s.pop()\n",
    "        print(p.data)\n",
    "        while  p:\n",
    "            if  p.lchild:\n",
    "                print(p.lchild.data)\n",
    "            if  p.rchild:\n",
    "                s.push(p.rchild)\n",
    "            p = p.lchild"
   ]
  },
  {
   "cell_type": "code",
   "execution_count": 36,
   "metadata": {},
   "outputs": [
    {
     "name": "stdout",
     "output_type": "stream",
     "text": [
      "A\n",
      "B\n",
      "D\n",
      "C\n",
      "E\n"
     ]
    }
   ],
   "source": [
    "preOrder2(a)"
   ]
  },
  {
   "cell_type": "code",
   "execution_count": 48,
   "metadata": {},
   "outputs": [],
   "source": [
    "# 代码有问题\n",
    "def inOrder2(root):\n",
    "    p = root\n",
    "    s = Stack()\n",
    "    s.push(p)\n",
    "    while not s.isEmpty():        \n",
    "        while p.lchild:            \n",
    "            p = p.lchild   \n",
    "            s.push(p)\n",
    "        p = s.pop()\n",
    "        print(p.data)\n",
    "        if p.rchild:\n",
    "            s.push(p.rchild)\n",
    "            p = p.rchild\n",
    "        "
   ]
  },
  {
   "cell_type": "code",
   "execution_count": 49,
   "metadata": {},
   "outputs": [
    {
     "name": "stdout",
     "output_type": "stream",
     "text": [
      "B\n",
      "D\n",
      "C\n",
      "D\n",
      "A\n",
      "E\n",
      "H\n",
      "G\n",
      "K\n",
      "F\n"
     ]
    }
   ],
   "source": [
    "inOrder2(a)"
   ]
  },
  {
   "cell_type": "code",
   "execution_count": 60,
   "metadata": {},
   "outputs": [],
   "source": [
    "def inOrder2(root):\n",
    "    p = root\n",
    "    s = Stack()\n",
    "    s.push(p)\n",
    "    while not s.isEmpty():\n",
    "        if p != None :\n",
    "            s.push(p)\n",
    "            p = p.lchild            \n",
    "        else:\n",
    "            p = s.pop()\n",
    "            print(p.data)\n",
    "            p = p.rchild\n",
    "            \n",
    "            \n",
    "        "
   ]
  },
  {
   "cell_type": "code",
   "execution_count": 61,
   "metadata": {
    "scrolled": true
   },
   "outputs": [
    {
     "name": "stdout",
     "output_type": "stream",
     "text": [
      "B\n",
      "D\n",
      "C\n",
      "A\n",
      "E\n",
      "H\n",
      "G\n",
      "K\n",
      "F\n",
      "A\n"
     ]
    }
   ],
   "source": [
    "inOrder2(a)"
   ]
  },
  {
   "cell_type": "code",
   "execution_count": 62,
   "metadata": {},
   "outputs": [],
   "source": [
    "def preOrder2(root):\n",
    "    p = root\n",
    "    s = Stack()\n",
    "    s.push(p)\n",
    "    while not s.isEmpty():\n",
    "        p = s.pop()\n",
    "        print(p.data)\n",
    "        if p.rchild:\n",
    "            s.push(p.rchild)\n",
    "        if p.lchild:\n",
    "            s.push(p.lchild)\n",
    "        \n",
    "        "
   ]
  },
  {
   "cell_type": "code",
   "execution_count": 63,
   "metadata": {
    "scrolled": true
   },
   "outputs": [
    {
     "name": "stdout",
     "output_type": "stream",
     "text": [
      "A\n",
      "B\n",
      "C\n",
      "D\n",
      "E\n",
      "F\n",
      "G\n",
      "H\n",
      "K\n"
     ]
    }
   ],
   "source": [
    "preOrder2(a)"
   ]
  },
  {
   "cell_type": "code",
   "execution_count": null,
   "metadata": {},
   "outputs": [],
   "source": [
    "def postOrder2(root):\n",
    "    p = root\n",
    "    s = Stack()\n",
    "    s.push(p)\n",
    "    while not s.isEmpty():\n",
    "        if p:\n",
    "            s.push(p)\n",
    "            p = p.lchild\n",
    "        \n",
    "        \n",
    "    \n",
    "    "
   ]
  }
 ],
 "metadata": {
  "kernelspec": {
   "display_name": "Python 3",
   "language": "python",
   "name": "python3"
  },
  "language_info": {
   "codemirror_mode": {
    "name": "ipython",
    "version": 3
   },
   "file_extension": ".py",
   "mimetype": "text/x-python",
   "name": "python",
   "nbconvert_exporter": "python",
   "pygments_lexer": "ipython3",
   "version": "3.6.8"
  }
 },
 "nbformat": 4,
 "nbformat_minor": 2
}
