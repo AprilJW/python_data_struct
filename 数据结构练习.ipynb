{
 "cells": [
  {
   "cell_type": "code",
   "execution_count": 3,
   "metadata": {},
   "outputs": [],
   "source": [
    "import pdb\n",
    "pdb.set_trace()"
   ]
  },
  {
   "cell_type": "markdown",
   "metadata": {},
   "source": [
    "#### 合并有序list"
   ]
  },
  {
   "cell_type": "code",
   "execution_count": 12,
   "metadata": {},
   "outputs": [
    {
     "data": {
      "text/plain": [
       "([10, 20, 40, 45, 50, 57, 60, 60], 8)"
      ]
     },
     "execution_count": 12,
     "metadata": {},
     "output_type": "execute_result"
    }
   ],
   "source": [
    "def MergeList(La, Lb):\n",
    "    La_len = len(La)\n",
    "    Lb_len = len(Lb)\n",
    "    Lc = []\n",
    "    i = j = k = 0\n",
    "    while i < La_len and j < Lb_len:\n",
    "        ai = La[i]\n",
    "        bi = Lb[j]\n",
    "        if ai <= bi:\n",
    "            Lc.append(ai)\n",
    "            i += 1\n",
    "            k += 1\n",
    "        else:\n",
    "            Lc.append(bi)\n",
    "            j += 1 \n",
    "            k += 1\n",
    "    while i < La_len:\n",
    "        ai = La[i]\n",
    "        Lc.append(ai)\n",
    "        i += 1\n",
    "        k += 1\n",
    "    while j < Lb_len:\n",
    "        bi = Lb[j]\n",
    "        Lc.append(bi) \n",
    "        j += 1\n",
    "        k += 1\n",
    "    return Lc, k\n",
    "#MergeList([10, 30, 50], [20, 40, 60])\n",
    "#MergeList([10, 30, 50, 55, 70], [20, 40, 60])  \n",
    "#MergeList([10, 30, 50], [20, 40, 60, 80, 90])\n",
    "MergeList([10, 45, 50,57,60], [20, 40, 60])"
   ]
  },
  {
   "cell_type": "markdown",
   "metadata": {},
   "source": [
    "#### 合并区间"
   ]
  },
  {
   "cell_type": "code",
   "execution_count": 2,
   "metadata": {},
   "outputs": [],
   "source": [
    "def merge(intervals):\n",
    "    answers = []\n",
    "    if not intervals:\n",
    "        return answers\n",
    "    \n",
    "    intervals = sorted(intervals, key=lambda a : a[0])\n",
    "    print('sorted_intervals:', intervals)\n",
    "    answers.append(intervals[0])\n",
    "    for interval in intervals[1:]:\n",
    "        if answers[-1][-1] < interval[0]:\n",
    "            answers.append(interval)\n",
    "#         elif interval[-1]<=answer[-1][-1]:\n",
    "#             continue\n",
    "        else:\n",
    "            new_interval = [answers[-1][0], interval[-1]]\n",
    "            answers.pop()\n",
    "            answers.append(new_interval)\n",
    "    return answers\n",
    "        "
   ]
  },
  {
   "cell_type": "code",
   "execution_count": 3,
   "metadata": {},
   "outputs": [
    {
     "name": "stdout",
     "output_type": "stream",
     "text": [
      "sorted_intervals: [[1, 3], [2, 6], [8, 10], [15, 18]]\n"
     ]
    },
    {
     "data": {
      "text/plain": [
       "[[1, 6], [8, 10], [15, 18]]"
      ]
     },
     "execution_count": 3,
     "metadata": {},
     "output_type": "execute_result"
    }
   ],
   "source": [
    "merge([[2,6],[1,3],[8,10],[15,18]])"
   ]
  },
  {
   "cell_type": "code",
   "execution_count": 4,
   "metadata": {},
   "outputs": [
    {
     "name": "stdout",
     "output_type": "stream",
     "text": [
      "sorted_intervals: [[1, 3], [2, 6], [7, 9], [8, 10], [9.5, 12], [15, 18]]\n"
     ]
    },
    {
     "data": {
      "text/plain": [
       "[[1, 6], [7, 12], [15, 18]]"
      ]
     },
     "execution_count": 4,
     "metadata": {},
     "output_type": "execute_result"
    }
   ],
   "source": [
    "merge([[2,6],[1,3],[7, 9],[8,10],[9.5,12],[15,18]])"
   ]
  },
  {
   "cell_type": "code",
   "execution_count": 5,
   "metadata": {},
   "outputs": [
    {
     "name": "stdout",
     "output_type": "stream",
     "text": [
      "sorted_intervals: [[1, 3], [2, 6], [7, 9], [8, 10], [10, 10], [10, 10]]\n"
     ]
    },
    {
     "data": {
      "text/plain": [
       "[[1, 6], [7, 10]]"
      ]
     },
     "execution_count": 5,
     "metadata": {},
     "output_type": "execute_result"
    }
   ],
   "source": [
    "merge([[2,6],[1,3],[7, 9],[8,10],[10,10],[10,10]])"
   ]
  },
  {
   "cell_type": "code",
   "execution_count": 6,
   "metadata": {},
   "outputs": [
    {
     "data": {
      "text/plain": [
       "[]"
      ]
     },
     "execution_count": 6,
     "metadata": {},
     "output_type": "execute_result"
    }
   ],
   "source": [
    "merge([])"
   ]
  },
  {
   "cell_type": "markdown",
   "metadata": {},
   "source": [
    "#### 插入区间"
   ]
  },
  {
   "cell_type": "code",
   "execution_count": 29,
   "metadata": {},
   "outputs": [],
   "source": [
    "class InsertIntervals(object):\n",
    "    \n",
    "    def insert(self, intervals, new_intervals):\n",
    "        \n",
    "        \"\"\"\n",
    "        :type intervals: List[List[int]]\n",
    "        \"\"\"\n",
    "        extend_intervals = intervals + new_intervals\n",
    "        extend_intervals = sorted(extend_intervals, key=lambda extend_interval: extend_interval[0])\n",
    "        print(extend_intervals)\n",
    "        return self.merge(extend_intervals)\n",
    "    \n",
    "    def merge(self, intervals):\n",
    "        answers = []\n",
    "        if not intervals:\n",
    "            return answers\n",
    "        answers.append(intervals[0])\n",
    "        for interval in intervals[1:]:\n",
    "            if answers[-1][-1] < interval[0]:\n",
    "                answers.append(interval)\n",
    "            elif answers[-1][-1] >= interval[-1]:\n",
    "                continue\n",
    "            else:\n",
    "                new_interval = [answers[-1][0], interval[1]]\n",
    "                answers.pop()\n",
    "                answers.append(new_interval)\n",
    "#         print(answers)\n",
    "        return answers"
   ]
  },
  {
   "cell_type": "code",
   "execution_count": 22,
   "metadata": {},
   "outputs": [
    {
     "data": {
      "text/plain": [
       "[[1, 5], [6, 9]]"
      ]
     },
     "execution_count": 22,
     "metadata": {},
     "output_type": "execute_result"
    }
   ],
   "source": [
    "insert_interval = InsertIntervals()\n",
    "insert_interval.insert([[1,3],[6,9]], [[2,5]])"
   ]
  },
  {
   "cell_type": "code",
   "execution_count": 30,
   "metadata": {},
   "outputs": [
    {
     "name": "stdout",
     "output_type": "stream",
     "text": [
      "[[1, 2], [3, 5], [4, 8], [6, 7], [8, 10], [12, 16]]\n"
     ]
    },
    {
     "data": {
      "text/plain": [
       "[[1, 2], [3, 10], [12, 16]]"
      ]
     },
     "execution_count": 30,
     "metadata": {},
     "output_type": "execute_result"
    }
   ],
   "source": [
    "insert_interval = InsertIntervals()\n",
    "insert_interval.insert([[1,2],[3,5],[6,7],[8,10],[12,16]], [[4,8]])"
   ]
  },
  {
   "cell_type": "code",
   "execution_count": 31,
   "metadata": {},
   "outputs": [
    {
     "name": "stdout",
     "output_type": "stream",
     "text": [
      "[[1, 2], [3, 5], [4, 8], [6, 7], [8, 10], [10, 11], [12, 16]]\n"
     ]
    },
    {
     "data": {
      "text/plain": [
       "[[1, 2], [3, 11], [12, 16]]"
      ]
     },
     "execution_count": 31,
     "metadata": {},
     "output_type": "execute_result"
    }
   ],
   "source": [
    "insert_interval = InsertIntervals()\n",
    "insert_interval.insert([[1,2],[3,5],[6,7],[8,10],[12,16]], [[4,8],[10,11]])"
   ]
  },
  {
   "cell_type": "code",
   "execution_count": 32,
   "metadata": {},
   "outputs": [
    {
     "name": "stdout",
     "output_type": "stream",
     "text": [
      "[[1, 2], [3, 5], [4, 8], [6, 7], [8, 10], [11, 12], [12, 16]]\n"
     ]
    },
    {
     "data": {
      "text/plain": [
       "[[1, 2], [3, 10], [11, 16]]"
      ]
     },
     "execution_count": 32,
     "metadata": {},
     "output_type": "execute_result"
    }
   ],
   "source": [
    "insert_interval = InsertIntervals()\n",
    "insert_interval.insert([[1,2],[3,5],[6,7],[8,10],[12,16]], [[4,8],[11,12]])"
   ]
  },
  {
   "cell_type": "markdown",
   "metadata": {},
   "source": [
    "#### 33搜索旋转排序数组, 默认数组为升序"
   ]
  },
  {
   "cell_type": "code",
   "execution_count": 83,
   "metadata": {},
   "outputs": [],
   "source": [
    "def half_search(nums, target, i, j, head):\n",
    "#     i = 0\n",
    "#     j = len(nums) - 1\n",
    "#     head = nums[0]\n",
    "    mid = int(0.5 * (j + i))\n",
    "\n",
    "    if i > j:\n",
    "        return -1\n",
    "    if nums[mid] == target:\n",
    "        return mid\n",
    "\n",
    "    if (nums[mid] < target < head) or (head <= nums[mid] < target) or (nums[mid] >= head and target < head):\n",
    "        return half_search(nums, target, mid + 1, j, head)\n",
    "    else:\n",
    "        return half_search(nums, target, i, mid-1, head)\n",
    "\n",
    "    if not nums:\n",
    "        return -1\n",
    "\n",
    "#return half_search(nums, target, 0, len(nums) - 1, nums[0])"
   ]
  },
  {
   "cell_type": "code",
   "execution_count": 36,
   "metadata": {
    "scrolled": true
   },
   "outputs": [
    {
     "data": {
      "text/plain": [
       "4"
      ]
     },
     "execution_count": 36,
     "metadata": {},
     "output_type": "execute_result"
    }
   ],
   "source": [
    "half_search([4,5,6,7,0,1,2], 0, 0, 6, 4)"
   ]
  },
  {
   "cell_type": "code",
   "execution_count": 38,
   "metadata": {},
   "outputs": [
    {
     "data": {
      "text/plain": [
       "-1"
      ]
     },
     "execution_count": 38,
     "metadata": {},
     "output_type": "execute_result"
    }
   ],
   "source": [
    "half_search([4,5,6,7,0,1,2], 3, 0, 6, 4)"
   ]
  },
  {
   "cell_type": "code",
   "execution_count": 40,
   "metadata": {},
   "outputs": [
    {
     "data": {
      "text/plain": [
       "2"
      ]
     },
     "execution_count": 40,
     "metadata": {},
     "output_type": "execute_result"
    }
   ],
   "source": [
    "half_search([4,5,6,7,0,1,2], 1, 0, 6, 4)"
   ]
  },
  {
   "cell_type": "code",
   "execution_count": 62,
   "metadata": {},
   "outputs": [
    {
     "data": {
      "text/plain": [
       "-1"
      ]
     },
     "execution_count": 62,
     "metadata": {},
     "output_type": "execute_result"
    }
   ],
   "source": [
    "half_search([4,5,6,7,0,1,2], -2, 0, 6, 4)"
   ]
  },
  {
   "cell_type": "code",
   "execution_count": 47,
   "metadata": {},
   "outputs": [
    {
     "data": {
      "text/plain": [
       "0"
      ]
     },
     "execution_count": 47,
     "metadata": {},
     "output_type": "execute_result"
    }
   ],
   "source": [
    "half_search([2,4,5,6,7,0,1],2, 0, 6, 2)"
   ]
  },
  {
   "cell_type": "code",
   "execution_count": 49,
   "metadata": {},
   "outputs": [
    {
     "data": {
      "text/plain": [
       "-1"
      ]
     },
     "execution_count": 49,
     "metadata": {},
     "output_type": "execute_result"
    }
   ],
   "source": [
    "half_search([7,6,5,4,2,1,0],1, 0, 6, 7)"
   ]
  },
  {
   "cell_type": "code",
   "execution_count": 53,
   "metadata": {},
   "outputs": [
    {
     "data": {
      "text/plain": [
       "5"
      ]
     },
     "execution_count": 53,
     "metadata": {},
     "output_type": "execute_result"
    }
   ],
   "source": [
    "half_search([0,1,2,4,5,6,7],6, 0, 6, 0)"
   ]
  },
  {
   "cell_type": "code",
   "execution_count": 54,
   "metadata": {},
   "outputs": [
    {
     "name": "stdout",
     "output_type": "stream",
     "text": [
      "[2, 1]\n"
     ]
    }
   ],
   "source": [
    "# a = [[1,3],[6,9]]\n",
    "# b = [[2,5]]\n",
    "\n",
    "# c = a + b\n",
    "c = [1,2][::-1]\n",
    "print(c)"
   ]
  },
  {
   "cell_type": "code",
   "execution_count": 61,
   "metadata": {},
   "outputs": [
    {
     "name": "stdout",
     "output_type": "stream",
     "text": [
      "765432\n",
      "765432\n",
      "765432\n",
      "765432\n"
     ]
    }
   ],
   "source": [
    "a = '234567'\n",
    "b = ''\n",
    "for i,_ in enumerate(a):\n",
    "    #b = ''.join(a[-(i+1)])\n",
    "    b += a[-(i+1)]\n",
    "print(b)\n",
    "c = ''.join(a[::-1])\n",
    "print(c)\n",
    "print(a[::-1])\n",
    "\n",
    "d = ''.join(list(a)[::-1])\n",
    "print(d)\n",
    "\n",
    "    "
   ]
  },
  {
   "cell_type": "code",
   "execution_count": 39,
   "metadata": {},
   "outputs": [
    {
     "data": {
      "text/plain": [
       "5"
      ]
     },
     "execution_count": 39,
     "metadata": {},
     "output_type": "execute_result"
    }
   ],
   "source": [
    "int(5.5)"
   ]
  },
  {
   "cell_type": "code",
   "execution_count": 94,
   "metadata": {},
   "outputs": [],
   "source": [
    "def half_search(nums, target, i, j):\n",
    "    \"\"\"\n",
    "    :type j=len(nums) - 1\n",
    "    \"\"\"\n",
    "    if not nums:\n",
    "        return -1\n",
    "    head = nums[0]\n",
    "    mid = int(0.5 * (i + j))\n",
    "    if nums[mid] == target:\n",
    "        return mid\n",
    "    \n",
    "    if (nums[mid]>head>target) or (head>target>nums[mid])  or (target>nums[mid]>head):\n",
    "        return half_search(nums, target, mid+1, j)\n",
    "        \n",
    "    else :\n",
    "        return half_search(nums, target, i, mid-1)\n",
    "    if i > j:\n",
    "        return -1\n",
    "                                                              "
   ]
  },
  {
   "cell_type": "code",
   "execution_count": 102,
   "metadata": {},
   "outputs": [
    {
     "data": {
      "text/plain": [
       "1"
      ]
     },
     "execution_count": 102,
     "metadata": {},
     "output_type": "execute_result"
    }
   ],
   "source": [
    "half_search([6,6,7,8,9,10,1,2,3,4], 6, 0, 9)"
   ]
  },
  {
   "cell_type": "code",
   "execution_count": 98,
   "metadata": {},
   "outputs": [
    {
     "data": {
      "text/plain": [
       "0"
      ]
     },
     "execution_count": 98,
     "metadata": {},
     "output_type": "execute_result"
    }
   ],
   "source": [
    "half_search([8,9,10,1,2,3,4,5,6,7], 8, 0, 9)"
   ]
  },
  {
   "cell_type": "code",
   "execution_count": 97,
   "metadata": {},
   "outputs": [
    {
     "data": {
      "text/plain": [
       "6"
      ]
     },
     "execution_count": 97,
     "metadata": {},
     "output_type": "execute_result"
    }
   ],
   "source": [
    "half_search([4,5,6,7,8,9,10,1,2,3], 10, 0, 9)"
   ]
  },
  {
   "cell_type": "code",
   "execution_count": 96,
   "metadata": {},
   "outputs": [
    {
     "data": {
      "text/plain": [
       "9"
      ]
     },
     "execution_count": 96,
     "metadata": {},
     "output_type": "execute_result"
    }
   ],
   "source": [
    "half_search([4,5,6,7,8,9,10,1,2,3], 3, 0, 9)"
   ]
  },
  {
   "cell_type": "code",
   "execution_count": 95,
   "metadata": {},
   "outputs": [
    {
     "data": {
      "text/plain": [
       "1"
      ]
     },
     "execution_count": 95,
     "metadata": {},
     "output_type": "execute_result"
    }
   ],
   "source": [
    "half_search([4,5,6,7,8,9,10,1,2,3], 5, 0, 9)"
   ]
  },
  {
   "cell_type": "code",
   "execution_count": 84,
   "metadata": {},
   "outputs": [
    {
     "data": {
      "text/plain": [
       "1"
      ]
     },
     "execution_count": 84,
     "metadata": {},
     "output_type": "execute_result"
    }
   ],
   "source": [
    "#half_search([4,5,6,7,8,9,10,1,2,3], 5, 0, 10,4)"
   ]
  },
  {
   "cell_type": "markdown",
   "metadata": {},
   "source": [
    "#### 4寻找两个有序数组的中位数，没理解"
   ]
  },
  {
   "cell_type": "code",
   "execution_count": null,
   "metadata": {},
   "outputs": [],
   "source": [
    "def findMedianSortedArrays(self, list1, list2)"
   ]
  },
  {
   "cell_type": "markdown",
   "metadata": {},
   "source": [
    "#### 26. 删除排序数组中的重复项"
   ]
  },
  {
   "cell_type": "code",
   "execution_count": 1,
   "metadata": {},
   "outputs": [],
   "source": [
    "def removeDuplicates(nums):\n",
    "    new_nums = []\n",
    "    for i in nums:\n",
    "        if i in new_nums:\n",
    "            continue\n",
    "        new_nums.append(i)\n",
    "    return new_nums\n",
    "    "
   ]
  },
  {
   "cell_type": "code",
   "execution_count": 2,
   "metadata": {},
   "outputs": [
    {
     "data": {
      "text/plain": [
       "[1, 2]"
      ]
     },
     "execution_count": 2,
     "metadata": {},
     "output_type": "execute_result"
    }
   ],
   "source": [
    "removeDuplicates([1,1,2])"
   ]
  },
  {
   "cell_type": "code",
   "execution_count": 3,
   "metadata": {},
   "outputs": [
    {
     "data": {
      "text/plain": [
       "[0, 1, 2, 3, 4]"
      ]
     },
     "execution_count": 3,
     "metadata": {},
     "output_type": "execute_result"
    }
   ],
   "source": [
    "removeDuplicates([0,0,1,1,1,2,2,3,3,4])"
   ]
  },
  {
   "cell_type": "code",
   "execution_count": 22,
   "metadata": {},
   "outputs": [],
   "source": [
    "#方法2，在原来的基础上修改，不新建数组\n",
    "def removeDuplicates_2(nums):\n",
    "    # 不能用for的原因，因为删除元素，数组的长度就变了，用for会报错\n",
    "    # 使用pop每一次删除都会使数组大量迁移\n",
    "    #for i in range(1, len(nums)):\n",
    "    i = 1\n",
    "    while i < len(nums):\n",
    "        if nums[i-1] == nums[i]:\n",
    "            nums.pop(i)\n",
    "            continue\n",
    "        i += 1\n",
    "    return len(nums), nums"
   ]
  },
  {
   "cell_type": "code",
   "execution_count": 23,
   "metadata": {
    "scrolled": true
   },
   "outputs": [
    {
     "data": {
      "text/plain": [
       "(2, [1, 2])"
      ]
     },
     "execution_count": 23,
     "metadata": {},
     "output_type": "execute_result"
    }
   ],
   "source": [
    "removeDuplicates_2([1,1,2])"
   ]
  },
  {
   "cell_type": "code",
   "execution_count": 24,
   "metadata": {},
   "outputs": [
    {
     "data": {
      "text/plain": [
       "(5, [0, 1, 2, 3, 4])"
      ]
     },
     "execution_count": 24,
     "metadata": {},
     "output_type": "execute_result"
    }
   ],
   "source": [
    "removeDuplicates_2([0,0,1,1,1,2,2,3,3,4])"
   ]
  },
  {
   "cell_type": "code",
   "execution_count": 25,
   "metadata": {},
   "outputs": [],
   "source": [
    "#i指针负责移动不同数值的位置，j指针负责遍历除了第一个元素的所有元素\n",
    "#nums长度一直未改变\n",
    "def removeDuplicates_3(nums):\n",
    "    i = 0\n",
    "    for j in range(1, len(nums)):\n",
    "        if nums[i] != nums[j]:\n",
    "            nums[i + 1] = nums[j]\n",
    "            i += 1\n",
    "    return len(nums), nums\n",
    "        \n",
    "        "
   ]
  },
  {
   "cell_type": "code",
   "execution_count": 26,
   "metadata": {},
   "outputs": [
    {
     "data": {
      "text/plain": [
       "(3, [1, 2, 2])"
      ]
     },
     "execution_count": 26,
     "metadata": {},
     "output_type": "execute_result"
    }
   ],
   "source": [
    "removeDuplicates_3([1,1,2])"
   ]
  },
  {
   "cell_type": "code",
   "execution_count": 27,
   "metadata": {},
   "outputs": [
    {
     "data": {
      "text/plain": [
       "(10, [0, 1, 2, 3, 4, 2, 2, 3, 3, 4])"
      ]
     },
     "execution_count": 27,
     "metadata": {},
     "output_type": "execute_result"
    }
   ],
   "source": [
    "removeDuplicates_3([0,0,1,1,1,2,2,3,3,4])"
   ]
  },
  {
   "cell_type": "markdown",
   "metadata": {},
   "source": [
    "#### 80. 删除排序数组中的重复项 II, 但是保留2个重复元素"
   ]
  },
  {
   "cell_type": "code",
   "execution_count": 33,
   "metadata": {},
   "outputs": [],
   "source": [
    "def removeDuplicates_remind2(nums):\n",
    "    i = 0\n",
    "    n = 1\n",
    "    for j in range(1, len(nums)):\n",
    "        if nums[i] != nums[j]:\n",
    "            nums[i + 1] = nums[j]\n",
    "            i += 1\n",
    "            n = 1\n",
    "        \n",
    "        else:\n",
    "            #当有i和j对应的元素相等时，证明已经有2个元素相同，才能进入本轮循环\n",
    "            #小于等于2个元素相同时，才能执行if下面的语句\n",
    "            if n < 2:\n",
    "                nums[i + 1] = nums[j]\n",
    "                i += 1\n",
    "                n +=1\n",
    "    return i+1, nums\n",
    "                \n",
    "            "
   ]
  },
  {
   "cell_type": "code",
   "execution_count": 35,
   "metadata": {},
   "outputs": [
    {
     "data": {
      "text/plain": [
       "(5, [1, 1, 2, 2, 3, 3])"
      ]
     },
     "execution_count": 35,
     "metadata": {},
     "output_type": "execute_result"
    }
   ],
   "source": [
    "removeDuplicates_remind2([1,1,1,2,2,3])"
   ]
  },
  {
   "cell_type": "code",
   "execution_count": 34,
   "metadata": {},
   "outputs": [
    {
     "data": {
      "text/plain": [
       "(7, [0, 0, 1, 1, 2, 3, 3, 3, 3])"
      ]
     },
     "execution_count": 34,
     "metadata": {},
     "output_type": "execute_result"
    }
   ],
   "source": [
    "removeDuplicates_remind2([0,0,1,1,1,1,2,3,3])"
   ]
  },
  {
   "cell_type": "code",
   "execution_count": 42,
   "metadata": {},
   "outputs": [],
   "source": [
    "#方法二容易理解\n",
    "def removeDuplicates_remind2_2(nums):\n",
    "    i = 1\n",
    "    for j in range(2, len(nums)):\n",
    "        condition = (nums[i] != nums[j]) or (nums[i] == nums[j] and nums[i-1] != nums[j]) \n",
    "        if condition:\n",
    "            nums[i + 1] = nums[j]\n",
    "            i += 1\n",
    "    return i + 1, nums\n",
    "            "
   ]
  },
  {
   "cell_type": "code",
   "execution_count": 43,
   "metadata": {},
   "outputs": [
    {
     "data": {
      "text/plain": [
       "(5, [1, 1, 2, 2, 3, 3])"
      ]
     },
     "execution_count": 43,
     "metadata": {},
     "output_type": "execute_result"
    }
   ],
   "source": [
    "removeDuplicates_remind2_2([1,1,1,2,2,3])"
   ]
  },
  {
   "cell_type": "code",
   "execution_count": 44,
   "metadata": {},
   "outputs": [
    {
     "data": {
      "text/plain": [
       "(7, [0, 0, 1, 1, 2, 3, 3, 3, 3])"
      ]
     },
     "execution_count": 44,
     "metadata": {},
     "output_type": "execute_result"
    }
   ],
   "source": [
    "removeDuplicates_remind2([0,0,1,1,1,1,2,3,3])"
   ]
  },
  {
   "cell_type": "markdown",
   "metadata": {},
   "source": [
    "#### 88. 合并两个有序数组,其中一个方法是将一个插入到另一个里面，\n",
    "#### 但是每插入一次就需要挪动一次"
   ]
  },
  {
   "cell_type": "code",
   "execution_count": 56,
   "metadata": {},
   "outputs": [
    {
     "data": {
      "text/plain": [
       "[1, 2, 3, 5, 8]"
      ]
     },
     "execution_count": 56,
     "metadata": {},
     "output_type": "execute_result"
    }
   ],
   "source": [
    "#方法一 先合并后快速排序"
   ]
  },
  {
   "cell_type": "code",
   "execution_count": 65,
   "metadata": {},
   "outputs": [],
   "source": [
    "#方法二 生成一个新的list\n",
    "def merge(nums1, m, nums2, n):\n",
    "    i = 0\n",
    "    j = 0\n",
    "    nums_copy = nums1[:m]\n",
    "    nums1 = []\n",
    "    while i < m and j < n:\n",
    "        if nums_copy[i] <= nums2[j]:\n",
    "            nums1.append(nums_copy[i])\n",
    "            i += 1\n",
    "        else:\n",
    "            nums1.append(nums2[j])\n",
    "            j += 1\n",
    "    while i < m:\n",
    "        nums1.append(nums_copy[i])\n",
    "        i += 1\n",
    "    while j < n:\n",
    "        nums1.append(nums2[j])\n",
    "        j += 1\n",
    "    #nums1 = nums3\n",
    "    return nums1\n",
    "        \n",
    "    "
   ]
  },
  {
   "cell_type": "code",
   "execution_count": 66,
   "metadata": {},
   "outputs": [
    {
     "data": {
      "text/plain": [
       "[1, 2, 2, 3, 5, 6]"
      ]
     },
     "execution_count": 66,
     "metadata": {},
     "output_type": "execute_result"
    }
   ],
   "source": [
    "merge([1,2,3,0,0,0], 3, [2,5,6], 3)"
   ]
  },
  {
   "cell_type": "markdown",
   "metadata": {},
   "source": [
    "#### 27. 移除元素,从后向前"
   ]
  },
  {
   "cell_type": "code",
   "execution_count": 71,
   "metadata": {},
   "outputs": [],
   "source": [
    "def removeElement(nums, val):\n",
    "    #移除时nums是变化的，所以不能有for\n",
    "    #for i in range(len(nums)):\n",
    "    i = 1\n",
    "    j = 0\n",
    "    while i < len(nums) + 1:\n",
    "        if nums[-(i)] == val:\n",
    "            nums[-(i)] = nums[-1]\n",
    "            nums.pop(-1)\n",
    "            continue\n",
    "        j += 1\n",
    "    return len(nums), nums\n",
    "            "
   ]
  },
  {
   "cell_type": "code",
   "execution_count": 72,
   "metadata": {},
   "outputs": [
    {
     "ename": "IndexError",
     "evalue": "list index out of range",
     "output_type": "error",
     "traceback": [
      "\u001b[0;31m---------------------------------------------------------------------------\u001b[0m",
      "\u001b[0;31mIndexError\u001b[0m                                Traceback (most recent call last)",
      "\u001b[0;32m<ipython-input-72-08d5110d5ce7>\u001b[0m in \u001b[0;36m<module>\u001b[0;34m()\u001b[0m\n\u001b[0;32m----> 1\u001b[0;31m \u001b[0mremoveElement\u001b[0m\u001b[0;34m(\u001b[0m\u001b[0;34m[\u001b[0m\u001b[0;36m3\u001b[0m\u001b[0;34m,\u001b[0m\u001b[0;36m2\u001b[0m\u001b[0;34m,\u001b[0m\u001b[0;36m2\u001b[0m\u001b[0;34m,\u001b[0m\u001b[0;36m3\u001b[0m\u001b[0;34m]\u001b[0m\u001b[0;34m,\u001b[0m \u001b[0;36m3\u001b[0m\u001b[0;34m)\u001b[0m\u001b[0;34m\u001b[0m\u001b[0;34m\u001b[0m\u001b[0m\n\u001b[0m",
      "\u001b[0;32m<ipython-input-71-4e70e4a46518>\u001b[0m in \u001b[0;36mremoveElement\u001b[0;34m(nums, val)\u001b[0m\n\u001b[1;32m      1\u001b[0m \u001b[0;32mdef\u001b[0m \u001b[0mremoveElement\u001b[0m\u001b[0;34m(\u001b[0m\u001b[0mnums\u001b[0m\u001b[0;34m,\u001b[0m \u001b[0mval\u001b[0m\u001b[0;34m)\u001b[0m\u001b[0;34m:\u001b[0m\u001b[0;34m\u001b[0m\u001b[0;34m\u001b[0m\u001b[0m\n\u001b[1;32m      2\u001b[0m     \u001b[0;32mfor\u001b[0m \u001b[0mi\u001b[0m \u001b[0;32min\u001b[0m \u001b[0mrange\u001b[0m\u001b[0;34m(\u001b[0m\u001b[0mlen\u001b[0m\u001b[0;34m(\u001b[0m\u001b[0mnums\u001b[0m\u001b[0;34m)\u001b[0m\u001b[0;34m)\u001b[0m\u001b[0;34m:\u001b[0m\u001b[0;34m\u001b[0m\u001b[0;34m\u001b[0m\u001b[0m\n\u001b[0;32m----> 3\u001b[0;31m         \u001b[0;32mif\u001b[0m \u001b[0mnums\u001b[0m\u001b[0;34m[\u001b[0m\u001b[0;34m-\u001b[0m\u001b[0;34m(\u001b[0m\u001b[0mi\u001b[0m \u001b[0;34m+\u001b[0m \u001b[0;36m1\u001b[0m\u001b[0;34m)\u001b[0m\u001b[0;34m]\u001b[0m \u001b[0;34m==\u001b[0m \u001b[0mval\u001b[0m\u001b[0;34m:\u001b[0m\u001b[0;34m\u001b[0m\u001b[0;34m\u001b[0m\u001b[0m\n\u001b[0m\u001b[1;32m      4\u001b[0m             \u001b[0mnums\u001b[0m\u001b[0;34m[\u001b[0m\u001b[0;34m-\u001b[0m\u001b[0;34m(\u001b[0m\u001b[0mi\u001b[0m \u001b[0;34m+\u001b[0m \u001b[0;36m1\u001b[0m\u001b[0;34m)\u001b[0m\u001b[0;34m]\u001b[0m \u001b[0;34m=\u001b[0m \u001b[0mnums\u001b[0m\u001b[0;34m[\u001b[0m\u001b[0;34m-\u001b[0m\u001b[0;36m1\u001b[0m\u001b[0;34m]\u001b[0m\u001b[0;34m\u001b[0m\u001b[0;34m\u001b[0m\u001b[0m\n\u001b[1;32m      5\u001b[0m             \u001b[0mnums\u001b[0m\u001b[0;34m.\u001b[0m\u001b[0mpop\u001b[0m\u001b[0;34m(\u001b[0m\u001b[0;34m-\u001b[0m\u001b[0;34m(\u001b[0m\u001b[0mi\u001b[0m \u001b[0;34m+\u001b[0m \u001b[0;36m1\u001b[0m\u001b[0;34m)\u001b[0m\u001b[0;34m)\u001b[0m\u001b[0;34m\u001b[0m\u001b[0;34m\u001b[0m\u001b[0m\n",
      "\u001b[0;31mIndexError\u001b[0m: list index out of range"
     ]
    }
   ],
   "source": [
    "removeElement([3,2,2,3], 3)"
   ]
  },
  {
   "cell_type": "code",
   "execution_count": 68,
   "metadata": {},
   "outputs": [
    {
     "name": "stdout",
     "output_type": "stream",
     "text": [
      "<class 'int'>\n"
     ]
    }
   ],
   "source": [
    "a=[1,2,3]\n",
    "\n",
    "print(type(a[1]))"
   ]
  },
  {
   "cell_type": "code",
   "execution_count": null,
   "metadata": {},
   "outputs": [],
   "source": [
    "a"
   ]
  }
 ],
 "metadata": {
  "kernelspec": {
   "display_name": "Python 3",
   "language": "python",
   "name": "python3"
  },
  "language_info": {
   "codemirror_mode": {
    "name": "ipython",
    "version": 3
   },
   "file_extension": ".py",
   "mimetype": "text/x-python",
   "name": "python",
   "nbconvert_exporter": "python",
   "pygments_lexer": "ipython3",
   "version": "3.6.8"
  }
 },
 "nbformat": 4,
 "nbformat_minor": 2
}
