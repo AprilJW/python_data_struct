{
 "cells": [
  {
   "cell_type": "markdown",
   "metadata": {},
   "source": [
    "## 旷世面试\n",
    "### 给定一个数组a, 其中元素各不相同且都是0～9之间的数字。给定一个数字n，要求用数组a中的， 数组合出一个大于n的十进制数字，组合出来的数字尽量小，a中的元素可以重复使用"
   ]
  },
  {
   "cell_type": "code",
   "execution_count": 3,
   "metadata": {},
   "outputs": [],
   "source": [
    "a = list(range(0, 10))\n",
    "n = int(input('plz input integer:'))\n"
   ]
  },
  {
   "cell_type": "markdown",
   "metadata": {},
   "source": [
    "### 204. 计数质数,统计所有小于非负整数 n 的质数的数量。"
   ]
  },
  {
   "cell_type": "code",
   "execution_count": 5,
   "metadata": {},
   "outputs": [
    {
     "name": "stdout",
     "output_type": "stream",
     "text": [
      "[2, 3, 5, 7]\n"
     ]
    }
   ],
   "source": [
    "def countPrimes(n):\n",
    "    prime = []\n",
    "    for i in range(2, n):\n",
    "        for j in prime:\n",
    "            if not i % j :\n",
    "                break\n",
    "        else:\n",
    "            prime.append(i)\n",
    "    print(prime)\n",
    "countPrimes(10)    "
   ]
  },
  {
   "cell_type": "markdown",
   "metadata": {},
   "source": [
    "### 258. 各位相加。给定一个非负整数 num，反复将各个位上的数字相加，直到结果为一位数。"
   ]
  },
  {
   "cell_type": "code",
   "execution_count": 24,
   "metadata": {},
   "outputs": [],
   "source": [
    "def addDigits(num):\n",
    "    len_n = len(str(num))\n",
    "    w = 10 ** (len_n-1)      \n",
    "    sum_n = 0\n",
    "    if len_n == 1:\n",
    "        return num\n",
    "    while w > 0:\n",
    "        quotient = num //w\n",
    "        reminder = num % w\n",
    "        sum_n += quotient\n",
    "        num = reminder\n",
    "        w //=10\n",
    "    print(sum_n)\n",
    "    addDigits(sum_n)\n"
   ]
  },
  {
   "cell_type": "code",
   "execution_count": 25,
   "metadata": {},
   "outputs": [
    {
     "name": "stdout",
     "output_type": "stream",
     "text": [
      "2\n"
     ]
    }
   ],
   "source": [
    "addDigits(11)"
   ]
  },
  {
   "cell_type": "code",
   "execution_count": 23,
   "metadata": {},
   "outputs": [
    {
     "name": "stdout",
     "output_type": "stream",
     "text": [
      "10\n"
     ]
    }
   ],
   "source": [
    "w = 100\n",
    "w //=10\n",
    "print(w)"
   ]
  },
  {
   "cell_type": "code",
   "execution_count": 26,
   "metadata": {},
   "outputs": [
    {
     "data": {
      "text/plain": [
       "2147483648"
      ]
     },
     "execution_count": 26,
     "metadata": {},
     "output_type": "execute_result"
    }
   ],
   "source": [
    "2**31\n"
   ]
  },
  {
   "cell_type": "markdown",
   "metadata": {},
   "source": [
    "### 119.杨辉三角，给定一个非负索引 k，其中 k ≤ 33，返回杨辉三角的第 k 行"
   ]
  },
  {
   "cell_type": "code",
   "execution_count": 14,
   "metadata": {},
   "outputs": [],
   "source": [
    "def getRow(rowIndex):\n",
    "    l0 = [1]\n",
    "    l1 = [1, 1]\n",
    "    if rowIndex == 0:\n",
    "        return l0\n",
    "    if rowIndex ==1:\n",
    "        return l1\n",
    "    #lst1 = [1,3,3,1]\n",
    "    \n",
    "    k = 1\n",
    "    while k < rowIndex:\n",
    "        lst2 = [1]\n",
    "        for i in range(k):\n",
    "            a = l1[i] + l1[i+1]\n",
    "            lst2.append(a)\n",
    "        lst2.append(1)\n",
    "        l1 = lst2\n",
    "        k += 1\n",
    "    return l1"
   ]
  },
  {
   "cell_type": "code",
   "execution_count": 15,
   "metadata": {},
   "outputs": [
    {
     "data": {
      "text/plain": [
       "[1, 4, 6, 4, 1]"
      ]
     },
     "execution_count": 15,
     "metadata": {},
     "output_type": "execute_result"
    }
   ],
   "source": [
    "getRow(4)"
   ]
  },
  {
   "cell_type": "markdown",
   "metadata": {},
   "source": [
    "### 67. 二进制求和,另一种简单的方法先将b补齐，然后用(a + b + flag)/2"
   ]
  },
  {
   "cell_type": "code",
   "execution_count": 83,
   "metadata": {},
   "outputs": [],
   "source": [
    "def addBinary(a, b):\n",
    "    c = ''\n",
    "    if len(a) < len(b):\n",
    "        a, b = b, a\n",
    "    print('a', a)\n",
    "    print('b', b)\n",
    "    flag = False\n",
    "    len_b = len(b)\n",
    "    for i in range(-1, -len(b)-1, -1):\n",
    "        if b[i]=='0' and a[i]=='0':\n",
    "            if flag:\n",
    "                c += '1'\n",
    "                flag = False\n",
    "            else:\n",
    "                c += '0'\n",
    "        elif b[i]=='1'and a[i]=='1':\n",
    "            if flag:\n",
    "                c += '1'\n",
    "                flag = False\n",
    "            else:\n",
    "                c += '0'\n",
    "            flag = True\n",
    "        else:\n",
    "            if flag:\n",
    "                c += '0'               \n",
    "            else:\n",
    "                c += '1'\n",
    "                flag = False\n",
    "    print(\"median:\",c)    \n",
    "    for i in range(-len(b)-1, -len(a)-1, -1):\n",
    "        if flag == True:\n",
    "            if a[i] == '1':\n",
    "                c += '0'\n",
    "            elif a[i] == '0':\n",
    "                c += '1'\n",
    "                flag = False\n",
    "        else:\n",
    "            c += a[i]\n",
    "        #print('end:', c)\n",
    "    if flag == True:\n",
    "        c += '1'\n",
    "    c = c[::-1]  \n",
    "    return c"
   ]
  },
  {
   "cell_type": "code",
   "execution_count": 79,
   "metadata": {},
   "outputs": [
    {
     "name": "stdout",
     "output_type": "stream",
     "text": [
      "a 1010\n",
      "b 1011\n",
      "median: 1010\n"
     ]
    },
    {
     "data": {
      "text/plain": [
       "'10101'"
      ]
     },
     "execution_count": 79,
     "metadata": {},
     "output_type": "execute_result"
    }
   ],
   "source": [
    "addBinary(\"1010\", \"1011\")"
   ]
  },
  {
   "cell_type": "code",
   "execution_count": 69,
   "metadata": {},
   "outputs": [
    {
     "name": "stdout",
     "output_type": "stream",
     "text": [
      "a 11\n",
      "b 1\n"
     ]
    },
    {
     "data": {
      "text/plain": [
       "'100'"
      ]
     },
     "execution_count": 69,
     "metadata": {},
     "output_type": "execute_result"
    }
   ],
   "source": [
    "addBinary('11', '1')"
   ]
  },
  {
   "cell_type": "code",
   "execution_count": 70,
   "metadata": {},
   "outputs": [
    {
     "name": "stdout",
     "output_type": "stream",
     "text": [
      "a 111\n",
      "b 1\n"
     ]
    },
    {
     "data": {
      "text/plain": [
       "'1000'"
      ]
     },
     "execution_count": 70,
     "metadata": {},
     "output_type": "execute_result"
    }
   ],
   "source": [
    "addBinary('1', '111')"
   ]
  },
  {
   "cell_type": "code",
   "execution_count": 82,
   "metadata": {},
   "outputs": [
    {
     "name": "stdout",
     "output_type": "stream",
     "text": [
      "a 101111\n",
      "b 10\n",
      "median: 10\n",
      "end: 100\n",
      "end: 1000\n",
      "end: 10001\n",
      "end: 100011\n"
     ]
    },
    {
     "data": {
      "text/plain": [
       "'110001'"
      ]
     },
     "execution_count": 82,
     "metadata": {},
     "output_type": "execute_result"
    }
   ],
   "source": [
    "addBinary(\"101111\",\"10\")"
   ]
  },
  {
   "cell_type": "markdown",
   "metadata": {},
   "source": [
    "计算IOU"
   ]
  },
  {
   "cell_type": "code",
   "execution_count": 85,
   "metadata": {},
   "outputs": [],
   "source": [
    "def iou(ax1,ax2,ay1,ay2,bx1,bx2,by1,by2):\n",
    "    if ax1 > ax2:\n",
    "        ax1 ,ax2 = ax2,ax1\n",
    "    if ay1 > ay2:\n",
    "        ay1, ay2 = ay2, ay1\n",
    "    if by1 > by2:\n",
    "        by1, by2 = by2, by1\n",
    "    if bx1 > bx2:\n",
    "        bx1, bx2 = bx2, bx1\n",
    "    if (ax2 - ax1) > (bx2 - bx1):\n",
    "        ax1, bx1 = bx1, ax1\n",
    "        ax2, bx2 = bx2, ax2\n",
    "    if (ay2 - ay1) > (by2 - by1):\n",
    "        ay2, by2 = by2, ay2\n",
    "        ay1, by1 = by1, ay1\n",
    "    if ax2 <= bx1 or ax1 >= bx2 or ay2 <= by1 or ay1 >= by2:\n",
    "        return 0\n",
    "    else:\n",
    "        a = min(ax2,bx2)-max(ax1,bx1)\n",
    "        b = min(ay2,by2)-max(ay1,by1)\n",
    "        return a * b"
   ]
  },
  {
   "cell_type": "code",
   "execution_count": 86,
   "metadata": {},
   "outputs": [
    {
     "data": {
      "text/plain": [
       "1"
      ]
     },
     "execution_count": 86,
     "metadata": {},
     "output_type": "execute_result"
    }
   ],
   "source": [
    "iou(1,3,1,3,2,3,2,3)"
   ]
  },
  {
   "cell_type": "code",
   "execution_count": 87,
   "metadata": {},
   "outputs": [
    {
     "data": {
      "text/plain": [
       "9"
      ]
     },
     "execution_count": 87,
     "metadata": {},
     "output_type": "execute_result"
    }
   ],
   "source": [
    "iou(-3,3,-3,3,-4,0,-4,0)"
   ]
  },
  {
   "cell_type": "code",
   "execution_count": 88,
   "metadata": {},
   "outputs": [
    {
     "data": {
      "text/plain": [
       "9"
      ]
     },
     "execution_count": 88,
     "metadata": {},
     "output_type": "execute_result"
    }
   ],
   "source": [
    "iou(3,-3,-3,3,-4,0,-4,0)"
   ]
  },
  {
   "cell_type": "code",
   "execution_count": 89,
   "metadata": {},
   "outputs": [
    {
     "data": {
      "text/plain": [
       "9"
      ]
     },
     "execution_count": 89,
     "metadata": {},
     "output_type": "execute_result"
    }
   ],
   "source": [
    "iou(-4,0,-4,0,3,-3,-3,3)"
   ]
  },
  {
   "cell_type": "code",
   "execution_count": 90,
   "metadata": {},
   "outputs": [
    {
     "data": {
      "text/plain": [
       "3"
      ]
     },
     "execution_count": 90,
     "metadata": {},
     "output_type": "execute_result"
    }
   ],
   "source": [
    "max(1,3)"
   ]
  },
  {
   "cell_type": "code",
   "execution_count": 41,
   "metadata": {},
   "outputs": [
    {
     "name": "stdout",
     "output_type": "stream",
     "text": [
      "-1\n",
      "-2\n",
      "-3\n",
      "-4\n"
     ]
    }
   ],
   "source": [
    "for i in range(-1, -5, -1):\n",
    "    print(i)\n",
    "\n"
   ]
  },
  {
   "cell_type": "code",
   "execution_count": 72,
   "metadata": {},
   "outputs": [
    {
     "name": "stdout",
     "output_type": "stream",
     "text": [
      "-3\n",
      "-4\n",
      "-5\n",
      "-6\n"
     ]
    }
   ],
   "source": [
    "for i in range(-3, -7, -1):\n",
    "    print(i)"
   ]
  },
  {
   "cell_type": "code",
   "execution_count": 21,
   "metadata": {},
   "outputs": [
    {
     "name": "stdout",
     "output_type": "stream",
     "text": [
      "<class 'str'> 011023\n",
      "32011\n"
     ]
    }
   ],
   "source": [
    "c = ''\n",
    "b = '0'\n",
    "d = '11023'\n",
    "x = d[::-1]\n",
    "print(type(c + b + d), c + b + d)\n",
    "print(x)"
   ]
  },
  {
   "cell_type": "code",
   "execution_count": null,
   "metadata": {},
   "outputs": [],
   "source": []
  },
  {
   "cell_type": "code",
   "execution_count": null,
   "metadata": {},
   "outputs": [],
   "source": []
  }
 ],
 "metadata": {
  "kernelspec": {
   "display_name": "Python 3",
   "language": "python",
   "name": "python3"
  },
  "language_info": {
   "codemirror_mode": {
    "name": "ipython",
    "version": 3
   },
   "file_extension": ".py",
   "mimetype": "text/x-python",
   "name": "python",
   "nbconvert_exporter": "python",
   "pygments_lexer": "ipython3",
   "version": "3.6.8"
  }
 },
 "nbformat": 4,
 "nbformat_minor": 2
}
