{
 "cells": [
  {
   "cell_type": "markdown",
   "metadata": {},
   "source": [
    "## 旷世面试\n",
    "### 给定一个数组a, 其中元素各不相同且都是0～9之间的数字。给定一个数字n，要求用数组a中的， 数组合出一个大于n的十进制数字，组合出来的数字尽量小，a中的元素可以重复使用"
   ]
  },
  {
   "cell_type": "code",
   "execution_count": 3,
   "metadata": {},
   "outputs": [],
   "source": [
    "a = list(range(0, 10))\n",
    "n = int(input('plz input integer:'))\n"
   ]
  },
  {
   "cell_type": "markdown",
   "metadata": {},
   "source": [
    "### 204. 计数质数,统计所有小于非负整数 n 的质数的数量。"
   ]
  },
  {
   "cell_type": "code",
   "execution_count": 5,
   "metadata": {},
   "outputs": [
    {
     "name": "stdout",
     "output_type": "stream",
     "text": [
      "[2, 3, 5, 7]\n"
     ]
    }
   ],
   "source": [
    "def countPrimes(n):\n",
    "    prime = []\n",
    "    for i in range(2, n):\n",
    "        for j in prime:\n",
    "            if not i % j :\n",
    "                break\n",
    "        else:\n",
    "            prime.append(i)\n",
    "    print(prime)\n",
    "countPrimes(10)    "
   ]
  },
  {
   "cell_type": "markdown",
   "metadata": {},
   "source": [
    "### 258. 各位相加。给定一个非负整数 num，反复将各个位上的数字相加，直到结果为一位数。"
   ]
  },
  {
   "cell_type": "code",
   "execution_count": 24,
   "metadata": {},
   "outputs": [],
   "source": [
    "def addDigits(num):\n",
    "    len_n = len(str(num))\n",
    "    w = 10 ** (len_n-1)      \n",
    "    sum_n = 0\n",
    "    if len_n == 1:\n",
    "        return num\n",
    "    while w > 0:\n",
    "        quotient = num //w\n",
    "        reminder = num % w\n",
    "        sum_n += quotient\n",
    "        num = reminder\n",
    "        w //=10\n",
    "    print(sum_n)\n",
    "    addDigits(sum_n)\n"
   ]
  },
  {
   "cell_type": "code",
   "execution_count": 25,
   "metadata": {},
   "outputs": [
    {
     "name": "stdout",
     "output_type": "stream",
     "text": [
      "2\n"
     ]
    }
   ],
   "source": [
    "addDigits(11)"
   ]
  },
  {
   "cell_type": "code",
   "execution_count": 23,
   "metadata": {},
   "outputs": [
    {
     "name": "stdout",
     "output_type": "stream",
     "text": [
      "10\n"
     ]
    }
   ],
   "source": [
    "w = 100\n",
    "w //=10\n",
    "print(w)"
   ]
  },
  {
   "cell_type": "code",
   "execution_count": 26,
   "metadata": {},
   "outputs": [
    {
     "data": {
      "text/plain": [
       "2147483648"
      ]
     },
     "execution_count": 26,
     "metadata": {},
     "output_type": "execute_result"
    }
   ],
   "source": [
    "2**31\n"
   ]
  },
  {
   "cell_type": "markdown",
   "metadata": {},
   "source": [
    "### 119.杨辉三角，给定一个非负索引 k，其中 k ≤ 33，返回杨辉三角的第 k 行"
   ]
  },
  {
   "cell_type": "code",
   "execution_count": 14,
   "metadata": {},
   "outputs": [],
   "source": [
    "def getRow(rowIndex):\n",
    "    l0 = [1]\n",
    "    l1 = [1, 1]\n",
    "    if rowIndex == 0:\n",
    "        return l0\n",
    "    if rowIndex ==1:\n",
    "        return l1\n",
    "    #lst1 = [1,3,3,1]\n",
    "    \n",
    "    k = 1\n",
    "    while k < rowIndex:\n",
    "        lst2 = [1]\n",
    "        for i in range(k):\n",
    "            a = l1[i] + l1[i+1]\n",
    "            lst2.append(a)\n",
    "        lst2.append(1)\n",
    "        l1 = lst2\n",
    "        k += 1\n",
    "    return l1"
   ]
  },
  {
   "cell_type": "code",
   "execution_count": 15,
   "metadata": {},
   "outputs": [
    {
     "data": {
      "text/plain": [
       "[1, 4, 6, 4, 1]"
      ]
     },
     "execution_count": 15,
     "metadata": {},
     "output_type": "execute_result"
    }
   ],
   "source": [
    "getRow(4)"
   ]
  },
  {
   "cell_type": "markdown",
   "metadata": {},
   "source": [
    "### 67. 二进制求和,另一种简单的方法先将b补齐，然后用(a + b + flag)/2"
   ]
  },
  {
   "cell_type": "code",
   "execution_count": 30,
   "metadata": {},
   "outputs": [],
   "source": [
    "def addBinary(a, b):\n",
    "    c = ''\n",
    "    if len(a) < len(b):\n",
    "        a, b = b, a\n",
    "    print('a', a)\n",
    "    print('b', b)\n",
    "    flag = False\n",
    "    len_b = len(b)\n",
    "    for i in range(-1, -len(b)-1, -1):\n",
    "        if b[i]=='0' and a[i]=='0':\n",
    "            if flag:\n",
    "                c += '1'\n",
    "                flag = False\n",
    "            else:\n",
    "                c += '0'\n",
    "        elif b[i]=='1'and a[i]=='1':\n",
    "            if flag:\n",
    "                c += '1'\n",
    "                flag = False\n",
    "            else:\n",
    "                c += '0'\n",
    "            flag = True\n",
    "        else:\n",
    "            if flag:\n",
    "                c += '0'               \n",
    "            else:\n",
    "                c += '1'\n",
    "                flag = False\n",
    "    print(\"median:\",c)    \n",
    "    for i in range(-len(b)-1, -len(a)-1, -1):\n",
    "        if flag == True:\n",
    "            if a[i] == '1':\n",
    "                c += '0'\n",
    "            elif a[i] == '0':\n",
    "                c += '1'\n",
    "                flag = False\n",
    "        else:\n",
    "            c += a[i]\n",
    "        #print('end:', c)\n",
    "    if flag == True:\n",
    "        c += '1'\n",
    "    c = c[::-1]  \n",
    "    print(c) "
   ]
  },
  {
   "cell_type": "code",
   "execution_count": 50,
   "metadata": {},
   "outputs": [],
   "source": [
    "#method2\n",
    "def addBinary_2(a, b):\n",
    "    if len(a) < len(b):\n",
    "        a, b = b, a\n",
    "    b = '0' * (len(a) - len(b)) + b\n",
    "    c = ''\n",
    "    flag = False\n",
    "    for i in range(-1, -len(a)-1, -1):\n",
    "        quotient = (int(a[i]) + int(b[i]) + flag) // 2\n",
    "        reminder = (int(a[i]) + int(b[i]) + flag) % 2\n",
    "        if quotient:\n",
    "            if reminder:\n",
    "                c = '1' + c\n",
    "            else:\n",
    "                c = '0' + c\n",
    "            flag = True\n",
    "        else:\n",
    "            if reminder:\n",
    "                c = '1' + c\n",
    "            else:\n",
    "                c = '0' + c\n",
    "            flag = False\n",
    "    if flag == True:\n",
    "        c = '1' + c\n",
    "    print(c)"
   ]
  },
  {
   "cell_type": "code",
   "execution_count": 42,
   "metadata": {},
   "outputs": [
    {
     "name": "stdout",
     "output_type": "stream",
     "text": [
      "a 1010\n",
      "b 1011\n",
      "median: 1010\n",
      "10101\n",
      "10101\n"
     ]
    }
   ],
   "source": [
    "addBinary(\"1010\", \"1011\")\n",
    "addBinary_2(\"1010\", \"1011\")"
   ]
  },
  {
   "cell_type": "code",
   "execution_count": 51,
   "metadata": {
    "scrolled": true
   },
   "outputs": [
    {
     "name": "stdout",
     "output_type": "stream",
     "text": [
      "a 1111\n",
      "b 1111\n",
      "median: 0111\n",
      "11110\n",
      "11110\n"
     ]
    }
   ],
   "source": [
    "addBinary(\"1111\", \"1111\")\n",
    "addBinary_2(\"1111\", \"1111\")"
   ]
  },
  {
   "cell_type": "code",
   "execution_count": 52,
   "metadata": {},
   "outputs": [
    {
     "name": "stdout",
     "output_type": "stream",
     "text": [
      "a 0\n",
      "b 0\n",
      "median: 0\n",
      "0\n",
      "0\n"
     ]
    }
   ],
   "source": [
    "addBinary('0', '0')\n",
    "addBinary_2('0', '0')"
   ]
  },
  {
   "cell_type": "code",
   "execution_count": 44,
   "metadata": {},
   "outputs": [
    {
     "name": "stdout",
     "output_type": "stream",
     "text": [
      "a 11\n",
      "b 1\n",
      "median: 0\n",
      "100\n",
      "100\n"
     ]
    }
   ],
   "source": [
    "addBinary('11', '1')\n",
    "addBinary_2('11', '1')"
   ]
  },
  {
   "cell_type": "code",
   "execution_count": 45,
   "metadata": {},
   "outputs": [
    {
     "name": "stdout",
     "output_type": "stream",
     "text": [
      "a 111\n",
      "b 1\n",
      "median: 0\n",
      "1000\n",
      "1000\n"
     ]
    }
   ],
   "source": [
    "addBinary('1', '111')\n",
    "addBinary_2('1', '111')"
   ]
  },
  {
   "cell_type": "code",
   "execution_count": 46,
   "metadata": {},
   "outputs": [
    {
     "name": "stdout",
     "output_type": "stream",
     "text": [
      "a 101111\n",
      "b 10\n",
      "median: 10\n",
      "110001\n",
      "110001\n"
     ]
    }
   ],
   "source": [
    "addBinary(\"101111\",\"10\")\n",
    "addBinary_2(\"101111\",\"10\")"
   ]
  },
  {
   "cell_type": "markdown",
   "metadata": {},
   "source": [
    "计算IOU"
   ]
  },
  {
   "cell_type": "code",
   "execution_count": 28,
   "metadata": {},
   "outputs": [],
   "source": [
    "def iou(ax1,ax2,ay1,ay2,bx1,bx2,by1,by2):\n",
    "    if ax1 > ax2:\n",
    "        ax1 ,ax2 = ax2,ax1\n",
    "    if ay1 > ay2:\n",
    "        ay1, ay2 = ay2, ay1\n",
    "    if by1 > by2:\n",
    "        by1, by2 = by2, by1\n",
    "    if bx1 > bx2:\n",
    "        bx1, bx2 = bx2, bx1\n",
    "    if (ax2 - ax1) > (bx2 - bx1):\n",
    "        ax1, bx1 = bx1, ax1\n",
    "        ax2, bx2 = bx2, ax2\n",
    "    if (ay2 - ay1) > (by2 - by1):\n",
    "        ay2, by2 = by2, ay2\n",
    "        ay1, by1 = by1, ay1\n",
    "    if ax2 <= bx1 or ax1 >= bx2 or ay2 <= by1 or ay1 >= by2:\n",
    "        print(0)\n",
    "    else:\n",
    "        a = min(ax2,bx2)-max(ax1,bx1)\n",
    "        b = min(ay2,by2)-max(ay1,by1)\n",
    "        print(a * b) "
   ]
  },
  {
   "cell_type": "code",
   "execution_count": 25,
   "metadata": {},
   "outputs": [],
   "source": [
    "#method2\n",
    "def iou_2(ax1, ax2, ay1, ay2, bx1, bx2, by1, by2):\n",
    "    if ax1 > ax2:\n",
    "        ax1, ax2 = ax2, ax1\n",
    "    if ay1 > ay2:\n",
    "        ay1, ay2 = ay2, ay1\n",
    "    if bx1 > bx2:\n",
    "        bx1, bx2 = bx2, bx1\n",
    "    if by1 > by2:\n",
    "        by1, by2 = by2, by1\n",
    "    a = min(ax2, bx2) - max(ax1, bx1)\n",
    "    b = min(ay2, by2) - max(ay1, by1)\n",
    "    intersection = max(a, 0) * max(b, 0)\n",
    "    sa = abs((ax2 - ax1) * (ay2 - ay1))\n",
    "    sb = abs((bx2 - bx1) * (by2 - by1))\n",
    "#     print('sa:', sa)\n",
    "#     print('sb:', sb)\n",
    "#     print('intersection:', intersection)\n",
    "    union = sa + sb -intersection\n",
    "    iou = intersection / union\n",
    "    print(intersection, iou)"
   ]
  },
  {
   "cell_type": "code",
   "execution_count": 29,
   "metadata": {},
   "outputs": [
    {
     "name": "stdout",
     "output_type": "stream",
     "text": [
      "1\n",
      "1 0.25\n",
      "0\n",
      "0 0.0\n"
     ]
    }
   ],
   "source": [
    "iou(1,3,1,3,2,3,2,3)\n",
    "iou_2(1,3,1,3,2,3,2,3)\n",
    "iou(1,3,1,3,4,6,6,4)\n",
    "iou_2(1,3,1,3,4,6,6,4)"
   ]
  },
  {
   "cell_type": "code",
   "execution_count": 22,
   "metadata": {},
   "outputs": [
    {
     "name": "stdout",
     "output_type": "stream",
     "text": [
      "9\n",
      "sa: 36\n",
      "sb: 16\n",
      "intersection: 9\n",
      "9 0.20930232558139536\n"
     ]
    }
   ],
   "source": [
    "iou(-3,3,-3,3,-4,0,-4,0)\n",
    "iou_2(-3,3,-3,3,-4,0,-4,0)"
   ]
  },
  {
   "cell_type": "code",
   "execution_count": 23,
   "metadata": {},
   "outputs": [
    {
     "name": "stdout",
     "output_type": "stream",
     "text": [
      "9\n",
      "sa: 36\n",
      "sb: 16\n",
      "intersection: 9\n",
      "9 0.20930232558139536\n"
     ]
    }
   ],
   "source": [
    "iou(3,-3,-3,3,-4,0,-4,0)\n",
    "iou_2(3,-3,-3,3,-4,0,-4,0)"
   ]
  },
  {
   "cell_type": "code",
   "execution_count": 24,
   "metadata": {},
   "outputs": [
    {
     "name": "stdout",
     "output_type": "stream",
     "text": [
      "9\n",
      "sa: 16\n",
      "sb: 36\n",
      "intersection: 9\n",
      "9 0.20930232558139536\n"
     ]
    }
   ],
   "source": [
    "iou(-4,0,-4,0,3,-3,-3,3)\n",
    "iou_2(-4,0,-4,0,3,-3,-3,3)"
   ]
  },
  {
   "cell_type": "markdown",
   "metadata": {},
   "source": [
    "快速排序"
   ]
  },
  {
   "cell_type": "code",
   "execution_count": 75,
   "metadata": {},
   "outputs": [],
   "source": [
    "def quick_sort(lst, start, end):\n",
    "    if start >= end:\n",
    "        return\n",
    "    i = start\n",
    "    j = end\n",
    "    temp = lst[start]\n",
    "    while i < j:\n",
    "        while lst[j] >= temp and i < j:\n",
    "            j -= 1\n",
    "        lst[i] = lst[j]\n",
    "\n",
    "        while lst[i] <= temp and i < j:\n",
    "            i += 1\n",
    "        lst[j] = lst[i]\n",
    "        \n",
    "    lst[i]  = temp\n",
    "    quick_sort(lst, start, i - 1)\n",
    "    quick_sort(lst, i + 1, end)"
   ]
  },
  {
   "cell_type": "code",
   "execution_count": 78,
   "metadata": {},
   "outputs": [],
   "source": [
    "def quick_sort(lst, i, j):\n",
    "    if i >= j:\n",
    "        return\n",
    "    \n",
    "    temp = lst[i]\n",
    "    while i < j:\n",
    "        while lst[j] >= temp and i < j:\n",
    "            j -= 1\n",
    "        lst[i] = lst[j]\n",
    "\n",
    "        while lst[i] <= temp and i < j:\n",
    "            i += 1\n",
    "        lst[j] = lst[i]\n",
    "        \n",
    "    lst[i]  = temp\n",
    "    quick_sort(lst, 0, i - 1)\n",
    "    quick_sort(lst, i + 1, len(lst)-1)"
   ]
  },
  {
   "cell_type": "code",
   "execution_count": 79,
   "metadata": {},
   "outputs": [
    {
     "ename": "RecursionError",
     "evalue": "maximum recursion depth exceeded in comparison",
     "output_type": "error",
     "traceback": [
      "\u001b[0;31m---------------------------------------------------------------------------\u001b[0m",
      "\u001b[0;31mRecursionError\u001b[0m                            Traceback (most recent call last)",
      "\u001b[0;32m<ipython-input-79-c333667ea65e>\u001b[0m in \u001b[0;36m<module>\u001b[0;34m()\u001b[0m\n\u001b[1;32m      1\u001b[0m \u001b[0mlst\u001b[0m \u001b[0;34m=\u001b[0m \u001b[0;34m[\u001b[0m\u001b[0;36m5\u001b[0m\u001b[0;34m,\u001b[0m\u001b[0;36m4\u001b[0m\u001b[0;34m,\u001b[0m\u001b[0;36m7\u001b[0m\u001b[0;34m,\u001b[0m\u001b[0;36m1\u001b[0m\u001b[0;34m,\u001b[0m\u001b[0;36m9\u001b[0m\u001b[0;34m,\u001b[0m\u001b[0;36m8\u001b[0m\u001b[0;34m,\u001b[0m\u001b[0;36m1\u001b[0m\u001b[0;34m,\u001b[0m\u001b[0;36m0\u001b[0m\u001b[0;34m,\u001b[0m\u001b[0;36m3\u001b[0m\u001b[0;34m,\u001b[0m\u001b[0;36m1\u001b[0m\u001b[0;34m,\u001b[0m\u001b[0;36m9\u001b[0m\u001b[0;34m]\u001b[0m\u001b[0;34m\u001b[0m\u001b[0;34m\u001b[0m\u001b[0m\n\u001b[1;32m      2\u001b[0m \u001b[0malist\u001b[0m \u001b[0;34m=\u001b[0m \u001b[0;34m[\u001b[0m\u001b[0;36m54\u001b[0m\u001b[0;34m,\u001b[0m\u001b[0;36m26\u001b[0m\u001b[0;34m,\u001b[0m\u001b[0;36m93\u001b[0m\u001b[0;34m,\u001b[0m\u001b[0;36m17\u001b[0m\u001b[0;34m,\u001b[0m\u001b[0;36m77\u001b[0m\u001b[0;34m,\u001b[0m\u001b[0;36m31\u001b[0m\u001b[0;34m,\u001b[0m\u001b[0;36m44\u001b[0m\u001b[0;34m,\u001b[0m\u001b[0;36m55\u001b[0m\u001b[0;34m,\u001b[0m\u001b[0;36m20\u001b[0m\u001b[0;34m]\u001b[0m\u001b[0;34m\u001b[0m\u001b[0;34m\u001b[0m\u001b[0m\n\u001b[0;32m----> 3\u001b[0;31m \u001b[0mquick_sort\u001b[0m\u001b[0;34m(\u001b[0m\u001b[0malist\u001b[0m\u001b[0;34m,\u001b[0m \u001b[0;36m0\u001b[0m\u001b[0;34m,\u001b[0m \u001b[0;36m8\u001b[0m\u001b[0;34m)\u001b[0m\u001b[0;34m\u001b[0m\u001b[0;34m\u001b[0m\u001b[0m\n\u001b[0m\u001b[1;32m      4\u001b[0m \u001b[0;34m\u001b[0m\u001b[0m\n\u001b[1;32m      5\u001b[0m \u001b[0mprint\u001b[0m\u001b[0;34m(\u001b[0m\u001b[0malist\u001b[0m\u001b[0;34m)\u001b[0m\u001b[0;34m\u001b[0m\u001b[0;34m\u001b[0m\u001b[0m\n",
      "\u001b[0;32m<ipython-input-78-52ed4f82be76>\u001b[0m in \u001b[0;36mquick_sort\u001b[0;34m(lst, i, j)\u001b[0m\n\u001b[1;32m     14\u001b[0m \u001b[0;34m\u001b[0m\u001b[0m\n\u001b[1;32m     15\u001b[0m     \u001b[0mlst\u001b[0m\u001b[0;34m[\u001b[0m\u001b[0mi\u001b[0m\u001b[0;34m]\u001b[0m  \u001b[0;34m=\u001b[0m \u001b[0mtemp\u001b[0m\u001b[0;34m\u001b[0m\u001b[0;34m\u001b[0m\u001b[0m\n\u001b[0;32m---> 16\u001b[0;31m     \u001b[0mquick_sort\u001b[0m\u001b[0;34m(\u001b[0m\u001b[0mlst\u001b[0m\u001b[0;34m,\u001b[0m \u001b[0;36m0\u001b[0m\u001b[0;34m,\u001b[0m \u001b[0mi\u001b[0m \u001b[0;34m-\u001b[0m \u001b[0;36m1\u001b[0m\u001b[0;34m)\u001b[0m\u001b[0;34m\u001b[0m\u001b[0;34m\u001b[0m\u001b[0m\n\u001b[0m\u001b[1;32m     17\u001b[0m     \u001b[0mquick_sort\u001b[0m\u001b[0;34m(\u001b[0m\u001b[0mlst\u001b[0m\u001b[0;34m,\u001b[0m \u001b[0mi\u001b[0m \u001b[0;34m+\u001b[0m \u001b[0;36m1\u001b[0m\u001b[0;34m,\u001b[0m \u001b[0mlen\u001b[0m\u001b[0;34m(\u001b[0m\u001b[0mlst\u001b[0m\u001b[0;34m)\u001b[0m\u001b[0;34m-\u001b[0m\u001b[0;36m1\u001b[0m\u001b[0;34m)\u001b[0m\u001b[0;34m\u001b[0m\u001b[0;34m\u001b[0m\u001b[0m\n",
      "\u001b[0;32m<ipython-input-78-52ed4f82be76>\u001b[0m in \u001b[0;36mquick_sort\u001b[0;34m(lst, i, j)\u001b[0m\n\u001b[1;32m     15\u001b[0m     \u001b[0mlst\u001b[0m\u001b[0;34m[\u001b[0m\u001b[0mi\u001b[0m\u001b[0;34m]\u001b[0m  \u001b[0;34m=\u001b[0m \u001b[0mtemp\u001b[0m\u001b[0;34m\u001b[0m\u001b[0;34m\u001b[0m\u001b[0m\n\u001b[1;32m     16\u001b[0m     \u001b[0mquick_sort\u001b[0m\u001b[0;34m(\u001b[0m\u001b[0mlst\u001b[0m\u001b[0;34m,\u001b[0m \u001b[0;36m0\u001b[0m\u001b[0;34m,\u001b[0m \u001b[0mi\u001b[0m \u001b[0;34m-\u001b[0m \u001b[0;36m1\u001b[0m\u001b[0;34m)\u001b[0m\u001b[0;34m\u001b[0m\u001b[0;34m\u001b[0m\u001b[0m\n\u001b[0;32m---> 17\u001b[0;31m     \u001b[0mquick_sort\u001b[0m\u001b[0;34m(\u001b[0m\u001b[0mlst\u001b[0m\u001b[0;34m,\u001b[0m \u001b[0mi\u001b[0m \u001b[0;34m+\u001b[0m \u001b[0;36m1\u001b[0m\u001b[0;34m,\u001b[0m \u001b[0mlen\u001b[0m\u001b[0;34m(\u001b[0m\u001b[0mlst\u001b[0m\u001b[0;34m)\u001b[0m\u001b[0;34m-\u001b[0m\u001b[0;36m1\u001b[0m\u001b[0;34m)\u001b[0m\u001b[0;34m\u001b[0m\u001b[0;34m\u001b[0m\u001b[0m\n\u001b[0m",
      "\u001b[0;32m<ipython-input-78-52ed4f82be76>\u001b[0m in \u001b[0;36mquick_sort\u001b[0;34m(lst, i, j)\u001b[0m\n\u001b[1;32m     14\u001b[0m \u001b[0;34m\u001b[0m\u001b[0m\n\u001b[1;32m     15\u001b[0m     \u001b[0mlst\u001b[0m\u001b[0;34m[\u001b[0m\u001b[0mi\u001b[0m\u001b[0;34m]\u001b[0m  \u001b[0;34m=\u001b[0m \u001b[0mtemp\u001b[0m\u001b[0;34m\u001b[0m\u001b[0;34m\u001b[0m\u001b[0m\n\u001b[0;32m---> 16\u001b[0;31m     \u001b[0mquick_sort\u001b[0m\u001b[0;34m(\u001b[0m\u001b[0mlst\u001b[0m\u001b[0;34m,\u001b[0m \u001b[0;36m0\u001b[0m\u001b[0;34m,\u001b[0m \u001b[0mi\u001b[0m \u001b[0;34m-\u001b[0m \u001b[0;36m1\u001b[0m\u001b[0;34m)\u001b[0m\u001b[0;34m\u001b[0m\u001b[0;34m\u001b[0m\u001b[0m\n\u001b[0m\u001b[1;32m     17\u001b[0m     \u001b[0mquick_sort\u001b[0m\u001b[0;34m(\u001b[0m\u001b[0mlst\u001b[0m\u001b[0;34m,\u001b[0m \u001b[0mi\u001b[0m \u001b[0;34m+\u001b[0m \u001b[0;36m1\u001b[0m\u001b[0;34m,\u001b[0m \u001b[0mlen\u001b[0m\u001b[0;34m(\u001b[0m\u001b[0mlst\u001b[0m\u001b[0;34m)\u001b[0m\u001b[0;34m-\u001b[0m\u001b[0;36m1\u001b[0m\u001b[0;34m)\u001b[0m\u001b[0;34m\u001b[0m\u001b[0;34m\u001b[0m\u001b[0m\n",
      "... last 3 frames repeated, from the frame below ...\n",
      "\u001b[0;32m<ipython-input-78-52ed4f82be76>\u001b[0m in \u001b[0;36mquick_sort\u001b[0;34m(lst, i, j)\u001b[0m\n\u001b[1;32m     15\u001b[0m     \u001b[0mlst\u001b[0m\u001b[0;34m[\u001b[0m\u001b[0mi\u001b[0m\u001b[0;34m]\u001b[0m  \u001b[0;34m=\u001b[0m \u001b[0mtemp\u001b[0m\u001b[0;34m\u001b[0m\u001b[0;34m\u001b[0m\u001b[0m\n\u001b[1;32m     16\u001b[0m     \u001b[0mquick_sort\u001b[0m\u001b[0;34m(\u001b[0m\u001b[0mlst\u001b[0m\u001b[0;34m,\u001b[0m \u001b[0;36m0\u001b[0m\u001b[0;34m,\u001b[0m \u001b[0mi\u001b[0m \u001b[0;34m-\u001b[0m \u001b[0;36m1\u001b[0m\u001b[0;34m)\u001b[0m\u001b[0;34m\u001b[0m\u001b[0;34m\u001b[0m\u001b[0m\n\u001b[0;32m---> 17\u001b[0;31m     \u001b[0mquick_sort\u001b[0m\u001b[0;34m(\u001b[0m\u001b[0mlst\u001b[0m\u001b[0;34m,\u001b[0m \u001b[0mi\u001b[0m \u001b[0;34m+\u001b[0m \u001b[0;36m1\u001b[0m\u001b[0;34m,\u001b[0m \u001b[0mlen\u001b[0m\u001b[0;34m(\u001b[0m\u001b[0mlst\u001b[0m\u001b[0;34m)\u001b[0m\u001b[0;34m-\u001b[0m\u001b[0;36m1\u001b[0m\u001b[0;34m)\u001b[0m\u001b[0;34m\u001b[0m\u001b[0;34m\u001b[0m\u001b[0m\n\u001b[0m",
      "\u001b[0;31mRecursionError\u001b[0m: maximum recursion depth exceeded in comparison"
     ]
    }
   ],
   "source": [
    "lst = [5,4,7,1,9,8,1,0,3,1,9]\n",
    "alist = [54,26,93,17,77,31,44,55,20]\n",
    "quick_sort(alist, 0, 8)\n",
    "\n",
    "print(alist)\n",
    "quick_sort(lst, 0, 10)\n",
    "print(lst)\n"
   ]
  },
  {
   "cell_type": "markdown",
   "metadata": {},
   "source": [
    "冒泡排序"
   ]
  },
  {
   "cell_type": "code",
   "execution_count": 82,
   "metadata": {},
   "outputs": [],
   "source": [
    "def bubble_sort(lst):\n",
    "    for i in range(0, len(lst) - 2):\n",
    "        for j in range(i+1, len(lst) - 1):\n",
    "            if lst[i] > lst[j]:\n",
    "                lst[i], lst[j] = lst[j], lst[i]\n",
    "    print(lst)"
   ]
  },
  {
   "cell_type": "code",
   "execution_count": 83,
   "metadata": {},
   "outputs": [
    {
     "name": "stdout",
     "output_type": "stream",
     "text": [
      "[0, 1, 1, 1, 3, 4, 5, 7, 8, 9, 9]\n"
     ]
    }
   ],
   "source": [
    "bubble_sort(lst)"
   ]
  },
  {
   "cell_type": "code",
   "execution_count": 41,
   "metadata": {},
   "outputs": [
    {
     "name": "stdout",
     "output_type": "stream",
     "text": [
      "-1\n",
      "-2\n",
      "-3\n",
      "-4\n"
     ]
    }
   ],
   "source": [
    "for i in range(-1, -5, -1):\n",
    "    print(i)\n",
    "\n"
   ]
  },
  {
   "cell_type": "code",
   "execution_count": 72,
   "metadata": {},
   "outputs": [
    {
     "name": "stdout",
     "output_type": "stream",
     "text": [
      "-3\n",
      "-4\n",
      "-5\n",
      "-6\n"
     ]
    }
   ],
   "source": [
    "for i in range(-3, -7, -1):\n",
    "    print(i)"
   ]
  },
  {
   "cell_type": "code",
   "execution_count": 21,
   "metadata": {},
   "outputs": [
    {
     "name": "stdout",
     "output_type": "stream",
     "text": [
      "<class 'str'> 011023\n",
      "32011\n"
     ]
    }
   ],
   "source": [
    "c = ''\n",
    "b = '0'\n",
    "d = '11023'\n",
    "x = d[::-1]\n",
    "print(type(c + b + d), c + b + d)\n",
    "print(x)"
   ]
  },
  {
   "cell_type": "markdown",
   "metadata": {},
   "source": [
    "iou"
   ]
  },
  {
   "cell_type": "code",
   "execution_count": 8,
   "metadata": {},
   "outputs": [],
   "source": []
  },
  {
   "cell_type": "code",
   "execution_count": 9,
   "metadata": {},
   "outputs": [
    {
     "data": {
      "text/plain": [
       "(4, 1.0)"
      ]
     },
     "execution_count": 9,
     "metadata": {},
     "output_type": "execute_result"
    }
   ],
   "source": [
    "iou(1,3,1,3,1,3,1,3)"
   ]
  },
  {
   "cell_type": "code",
   "execution_count": 10,
   "metadata": {},
   "outputs": [
    {
     "data": {
      "text/plain": [
       "(1, 0.25)"
      ]
     },
     "execution_count": 10,
     "metadata": {},
     "output_type": "execute_result"
    }
   ],
   "source": [
    "iou(1,3,1,3,2,3,2,3)"
   ]
  },
  {
   "cell_type": "markdown",
   "metadata": {},
   "source": [
    "509. 斐波那契数"
   ]
  },
  {
   "cell_type": "code",
   "execution_count": 10,
   "metadata": {},
   "outputs": [],
   "source": [
    "def fib(N):\n",
    "    f0 = 0\n",
    "    f1 = 1\n",
    "    if N == 0:\n",
    "        return f0\n",
    "    if N == 1:\n",
    "        return f1\n",
    "    k = 1\n",
    "    while True:\n",
    "        f2 = f0 + f1\n",
    "        k +=1\n",
    "        if k >= N:\n",
    "            return f2\n",
    "            #break\n",
    "        f0 = f1\n",
    "        f1 = f2\n",
    "        "
   ]
  },
  {
   "cell_type": "code",
   "execution_count": 15,
   "metadata": {},
   "outputs": [
    {
     "data": {
      "text/plain": [
       "(2, 3, 0, 1, 1, 5)"
      ]
     },
     "execution_count": 15,
     "metadata": {},
     "output_type": "execute_result"
    }
   ],
   "source": [
    "fib(3),fib(4),fib(0),fib(1),fib(2),fib(5)"
   ]
  },
  {
   "cell_type": "markdown",
   "metadata": {},
   "source": [
    "873. 最长的斐波那契子序列的长度"
   ]
  },
  {
   "cell_type": "code",
   "execution_count": 18,
   "metadata": {},
   "outputs": [],
   "source": [
    "def LongestFib(A):\n",
    "    max_long = 2\n",
    "    for i in range(0, len(A)-2):\n",
    "        k = i\n",
    "        j = k + 1\n",
    "        longest = 2\n",
    "        while j < len(A) - 1:           \n",
    "            if (A[k] + A[j]) in A:\n",
    "                \n",
    "                #print(A[k],A[j])\n",
    "                m = A.index(A[k] + A[j])\n",
    "                k = j\n",
    "                j = m\n",
    "                longest += 1\n",
    "            else:\n",
    "                j += 1\n",
    "        if longest > max_long:\n",
    "            max_long = longest\n",
    "        if j >= len(A) - 1:\n",
    "            break\n",
    "    return max_long if max_long >= 3 else 0"
   ]
  },
  {
   "cell_type": "code",
   "execution_count": 19,
   "metadata": {
    "scrolled": true
   },
   "outputs": [
    {
     "name": "stdout",
     "output_type": "stream",
     "text": [
      "3\n",
      "5\n"
     ]
    }
   ],
   "source": [
    "print(LongestFib([1,3,7,11,12,14,18]))\n",
    "print(LongestFib([1,2,3,4,5,6,7,8]))\n"
   ]
  },
  {
   "cell_type": "code",
   "execution_count": 20,
   "metadata": {},
   "outputs": [],
   "source": [
    "import collections"
   ]
  },
  {
   "cell_type": "code",
   "execution_count": 37,
   "metadata": {},
   "outputs": [],
   "source": [
    "def lenLongestFibSubseq(A):\n",
    "        index = {x: i for i, x in enumerate(A)}\n",
    "        longest = collections.defaultdict(lambda: 2)\n",
    "        print('index:', index)\n",
    "        #print('longest:', longest.keys(), longest.values())\n",
    "\n",
    "        ans = 0\n",
    "        for k, z in enumerate(A):\n",
    "            for j in range(k):\n",
    "                i = index.get(z - A[j], None)\n",
    "                if i is not None and i < j:\n",
    "                    cand = longest[j, k] = longest[i, j] + 1\n",
    "                    ans = max(ans, cand)\n",
    "        print(longest)\n",
    "        return ans if ans >= 3 else 0\n"
   ]
  },
  {
   "cell_type": "code",
   "execution_count": 38,
   "metadata": {
    "scrolled": true
   },
   "outputs": [
    {
     "name": "stdout",
     "output_type": "stream",
     "text": [
      "index: {1: 0, 3: 1, 7: 2, 11: 3, 12: 4, 14: 5, 18: 6}\n",
      "defaultdict(<function lenLongestFibSubseq.<locals>.<lambda> at 0x10397e7b8>, {(0, 3): 2, (3, 4): 3, (1, 3): 2, (3, 5): 3, (2, 3): 2, (3, 6): 3})\n"
     ]
    },
    {
     "data": {
      "text/plain": [
       "3"
      ]
     },
     "execution_count": 38,
     "metadata": {},
     "output_type": "execute_result"
    }
   ],
   "source": [
    "lenLongestFibSubseq([1,3,7,11,12,14,18])\n"
   ]
  },
  {
   "cell_type": "code",
   "execution_count": 35,
   "metadata": {},
   "outputs": [
    {
     "name": "stdout",
     "output_type": "stream",
     "text": [
      "defaultdict(<function <lambda> at 0x10397e6a8>, {(1, 2): 2, (8, 9): 5})\n"
     ]
    }
   ],
   "source": [
    "longest = collections.defaultdict(lambda: 2)\n",
    "longest[1,2]\n",
    "longest[(8,9)] = longest[1,2] + 1\n",
    "longest[(8,9)] = longest[1,2] + 3\n",
    "print(longest)\n"
   ]
  },
  {
   "cell_type": "code",
   "execution_count": 49,
   "metadata": {},
   "outputs": [],
   "source": [
    "import collections \n",
    "def LongestFib(A):\n",
    "    index_num_dic = collections.defaultdict(lambda:2)\n",
    "    max_count = 2\n",
    "    for i in range(0, len(A)-2):\n",
    "        for j in range(i+1, len(A)-1):\n",
    "            temp = A[i] + A[j]\n",
    "            if temp in A:\n",
    "                temp_index = A.index(temp)\n",
    "                count = index_num_dic[j, temp_index] = index_num_dic[i, j] + 1\n",
    "                max_count = max(count, max_count)\n",
    "    print(max_count)\n",
    "    print(index_num_dic)"
   ]
  },
  {
   "cell_type": "code",
   "execution_count": 50,
   "metadata": {},
   "outputs": [
    {
     "name": "stdout",
     "output_type": "stream",
     "text": [
      "3\n",
      "defaultdict(<function LongestFib.<locals>.<lambda> at 0x1039a9d90>, {(0, 3): 2, (3, 4): 3, (1, 3): 2, (3, 5): 3, (2, 3): 2, (3, 6): 3})\n"
     ]
    }
   ],
   "source": [
    "LongestFib([1,3,7,11,12,14,18])"
   ]
  },
  {
   "cell_type": "code",
   "execution_count": 51,
   "metadata": {},
   "outputs": [
    {
     "name": "stdout",
     "output_type": "stream",
     "text": [
      "5\n",
      "defaultdict(<function LongestFib.<locals>.<lambda> at 0x1039a9c80>, {(0, 1): 2, (1, 2): 3, (0, 2): 2, (2, 3): 3, (0, 3): 2, (3, 4): 3, (0, 4): 2, (4, 5): 3, (0, 5): 2, (5, 6): 3, (0, 6): 2, (6, 7): 3, (2, 4): 4, (1, 3): 2, (3, 5): 3, (1, 4): 2, (4, 6): 3, (1, 5): 2, (5, 7): 3, (3, 6): 4, (4, 7): 5})\n"
     ]
    }
   ],
   "source": [
    "LongestFib([1,2,3,4,5,6,7,8])"
   ]
  },
  {
   "cell_type": "code",
   "execution_count": null,
   "metadata": {},
   "outputs": [],
   "source": []
  }
 ],
 "metadata": {
  "kernelspec": {
   "display_name": "Python 3",
   "language": "python",
   "name": "python3"
  },
  "language_info": {
   "codemirror_mode": {
    "name": "ipython",
    "version": 3
   },
   "file_extension": ".py",
   "mimetype": "text/x-python",
   "name": "python",
   "nbconvert_exporter": "python",
   "pygments_lexer": "ipython3",
   "version": "3.6.8"
  }
 },
 "nbformat": 4,
 "nbformat_minor": 2
}
