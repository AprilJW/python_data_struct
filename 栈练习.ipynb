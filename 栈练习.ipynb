{
 "cells": [
  {
   "cell_type": "code",
   "execution_count": 6,
   "metadata": {},
   "outputs": [
    {
     "name": "stdout",
     "output_type": "stream",
     "text": [
      "2\n",
      "5\n",
      "0\n",
      "4\n"
     ]
    }
   ],
   "source": [
    "\"\"\"\n",
    "10进制转换成8进制\n",
    "\"\"\"\n",
    "n = 1348 \n",
    "stack = []\n",
    "while n > 0:\n",
    "    div, mod = divmod(n, 8)\n",
    "    stack.append(mod)\n",
    "    n = div\n",
    "    \n",
    "while stack:\n",
    "    print(stack.pop())"
   ]
  },
  {
   "cell_type": "code",
   "execution_count": 25,
   "metadata": {},
   "outputs": [
    {
     "name": "stdout",
     "output_type": "stream",
     "text": [
      "([{})\n",
      "not match\n"
     ]
    }
   ],
   "source": [
    "\"\"\"\n",
    "括号匹配检测\n",
    "\"\"\"\n",
    "n = ['([{}])', '([{})'][1]\n",
    "print(n)\n",
    "stack = []\n",
    "for i in range(len(n)):\n",
    "    if n[i] in ('(', '[', '{'):\n",
    "#         print('****', n[i], type(n[i]))\n",
    "        stack.append(n[i])\n",
    "    else: \n",
    "        if stack[-1] == n[i]:\n",
    "            stack.pop()\n",
    "        else:\n",
    "            print('not match')\n",
    "            break\n",
    "#     print('stack:', stack)\n",
    "else:\n",
    "    print('match')\n",
    "        "
   ]
  },
  {
   "cell_type": "code",
   "execution_count": 22,
   "metadata": {},
   "outputs": [
    {
     "data": {
      "text/plain": [
       "'2'"
      ]
     },
     "execution_count": 22,
     "metadata": {},
     "output_type": "execute_result"
    }
   ],
   "source": [
    "'a' == '1' or '2'"
   ]
  },
  {
   "cell_type": "code",
   "execution_count": null,
   "metadata": {},
   "outputs": [],
   "source": []
  }
 ],
 "metadata": {
  "kernelspec": {
   "display_name": "Python 3",
   "language": "python",
   "name": "python3"
  },
  "language_info": {
   "codemirror_mode": {
    "name": "ipython",
    "version": 3
   },
   "file_extension": ".py",
   "mimetype": "text/x-python",
   "name": "python",
   "nbconvert_exporter": "python",
   "pygments_lexer": "ipython3",
   "version": "3.6.8"
  }
 },
 "nbformat": 4,
 "nbformat_minor": 2
}
