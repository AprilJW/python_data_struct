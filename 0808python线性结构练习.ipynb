{
 "cells": [
  {
   "cell_type": "code",
   "execution_count": 1,
   "metadata": {},
   "outputs": [],
   "source": [
    "\"\"\"\n",
    "已知数组A的元素类型都为整数，设计一个时间和空间复杂度高的算法，\n",
    "使左边都为奇数右边都为偶数。\n",
    "\"\"\"\n",
    "#method1 O(n) O(1)\n",
    "def adjust(nums):\n",
    "    i = 0\n",
    "    j = len(nums) -1\n",
    "    while i < j:\n",
    "        if nums[i] % 2 == 0 and nums[j] %2 == 1:\n",
    "            nums[i], nums[j] = nums[j], nums[i]\n",
    "            i += 1\n",
    "            j -= 1\n",
    "        elif nums[i] % 2 == 1 and nums[j] % 2 == 1:\n",
    "            i += 1\n",
    "        elif nums[i] % 2 == 1 and nums[j] % 2 == 0:\n",
    "            i += 1\n",
    "            j -= 1\n",
    "        else:\n",
    "            j -= 1\n",
    "    return nums"
   ]
  },
  {
   "cell_type": "code",
   "execution_count": 8,
   "metadata": {},
   "outputs": [],
   "source": [
    "# method2 O(n) O(1)\n",
    "def adjust(nums):\n",
    "    i = 0\n",
    "    j = len(nums) - 1\n",
    "    while i < j:\n",
    "        while nums[i] % 2 != 0:\n",
    "            i += 1\n",
    "        while nums[j] % 2 == 0:\n",
    "            j -= 1\n",
    "        if i < j:\n",
    "            nums[i], nums[j] = nums[j], nums[i]\n",
    "    return nums\n",
    "    \n",
    "    "
   ]
  },
  {
   "cell_type": "code",
   "execution_count": 31,
   "metadata": {},
   "outputs": [],
   "source": [
    "import random\n",
    "nums = [None] * 16\n",
    "for i in range(16):\n",
    "    nums[i] = random.randint(0, 20)\n"
   ]
  },
  {
   "cell_type": "code",
   "execution_count": 7,
   "metadata": {},
   "outputs": [
    {
     "data": {
      "text/plain": [
       "[7, 9, 3, 3, 5, 1, 0, 6, 4, 4, 2, 8]"
      ]
     },
     "execution_count": 7,
     "metadata": {},
     "output_type": "execute_result"
    }
   ],
   "source": [
    "adjust([7,8,3,4,5,1,0,6,4,3,2,9])"
   ]
  },
  {
   "cell_type": "code",
   "execution_count": 11,
   "metadata": {},
   "outputs": [
    {
     "data": {
      "text/plain": [
       "[7, 5, 1, 9, 5, 5, 8, 0, 6, 16, 6, 18, 6, 4, 8, 14]"
      ]
     },
     "execution_count": 11,
     "metadata": {},
     "output_type": "execute_result"
    }
   ],
   "source": [
    "adjust(nums)"
   ]
  },
  {
   "cell_type": "code",
   "execution_count": 30,
   "metadata": {},
   "outputs": [],
   "source": [
    "\"\"\"\n",
    "以数组A中的第一个元素a1为参考，将小于a1的元素放到左边，\n",
    "大于a1的元素放到右边\n",
    "\"\"\"\n",
    "def sort(nums):\n",
    "    temp = nums[0]\n",
    "    i = 0\n",
    "    j = len(nums) -1\n",
    "    while i < j:\n",
    "        while i < j and nums[j] >= temp:\n",
    "            j -= 1\n",
    "        nums[i], nums[j] = nums[j], nums[i]\n",
    "\n",
    "        while i < j and nums[i] < temp:\n",
    "            i += 1\n",
    "        nums[i], nums[j] = nums[j], nums[i]\n",
    "    nums[i] = temp\n",
    "    return nums\n",
    "\n",
    "        "
   ]
  },
  {
   "cell_type": "code",
   "execution_count": 32,
   "metadata": {
    "scrolled": true
   },
   "outputs": [
    {
     "name": "stdout",
     "output_type": "stream",
     "text": [
      "[5, 0, 2, 2, 16, 19, 6, 15, 11, 0, 14, 5, 16, 3, 6, 2]\n"
     ]
    },
    {
     "data": {
      "text/plain": [
       "[2, 0, 2, 2, 3, 0, 5, 15, 11, 6, 14, 5, 16, 19, 6, 16]"
      ]
     },
     "execution_count": 32,
     "metadata": {},
     "output_type": "execute_result"
    }
   ],
   "source": [
    "print(nums)\n",
    "sort(nums)"
   ]
  },
  {
   "cell_type": "code",
   "execution_count": 1,
   "metadata": {},
   "outputs": [],
   "source": [
    "#str reverse \n",
    "# def reverse(str1):\n",
    "#     print(str1)\n",
    "#     i = 0\n",
    "#     j = len(str1) - 1\n",
    "#     while i < j:\n",
    "#         str1[i], str1[j]  = str1[j], str1[i]\n",
    "#         i += 1\n",
    "#         j += 1\n",
    "#     return\n",
    "\n",
    "def reverse(str1):\n",
    "    str2 = ''\n",
    "    for i in range(len(str1)):\n",
    "        str2 = str1[i] + str2\n",
    "    return str2\n",
    "        "
   ]
  },
  {
   "cell_type": "code",
   "execution_count": 2,
   "metadata": {},
   "outputs": [
    {
     "name": "stdout",
     "output_type": "stream",
     "text": [
      "1000000 loops, best of 3: 1.26 µs per loop\n"
     ]
    }
   ],
   "source": [
    "%timeit reverse('1234567788890')"
   ]
  },
  {
   "cell_type": "code",
   "execution_count": 3,
   "metadata": {},
   "outputs": [
    {
     "name": "stdout",
     "output_type": "stream",
     "text": [
      "10000000 loops, best of 3: 90.6 ns per loop\n"
     ]
    }
   ],
   "source": [
    "%timeit '1234567788890'[::-1]"
   ]
  },
  {
   "cell_type": "code",
   "execution_count": 1,
   "metadata": {},
   "outputs": [
    {
     "name": "stdout",
     "output_type": "stream",
     "text": [
      "Object `reverse` not found.\n"
     ]
    }
   ],
   "source": []
  },
  {
   "cell_type": "code",
   "execution_count": 8,
   "metadata": {},
   "outputs": [],
   "source": [
    "reversed??"
   ]
  },
  {
   "cell_type": "code",
   "execution_count": 42,
   "metadata": {},
   "outputs": [
    {
     "data": {
      "text/plain": [
       "<reversed at 0x10edb1630>"
      ]
     },
     "execution_count": 42,
     "metadata": {},
     "output_type": "execute_result"
    }
   ],
   "source": [
    "reversed('1234567788890')"
   ]
  },
  {
   "cell_type": "code",
   "execution_count": null,
   "metadata": {},
   "outputs": [],
   "source": []
  },
  {
   "cell_type": "code",
   "execution_count": null,
   "metadata": {},
   "outputs": [],
   "source": []
  }
 ],
 "metadata": {
  "kernelspec": {
   "display_name": "Python 3",
   "language": "python",
   "name": "python3"
  },
  "language_info": {
   "codemirror_mode": {
    "name": "ipython",
    "version": 3
   },
   "file_extension": ".py",
   "mimetype": "text/x-python",
   "name": "python",
   "nbconvert_exporter": "python",
   "pygments_lexer": "ipython3",
   "version": "3.6.8"
  }
 },
 "nbformat": 4,
 "nbformat_minor": 2
}
