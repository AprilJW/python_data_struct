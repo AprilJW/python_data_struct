{
 "cells": [
  {
   "cell_type": "code",
   "execution_count": 3,
   "metadata": {},
   "outputs": [
    {
     "name": "stdout",
     "output_type": "stream",
     "text": [
      "defaultdict(<function singleNumber.<locals>.<lambda> at 0x10decd2f0>, {2: 2, 1: 1})\n",
      "defaultdict(<function singleNumber.<locals>.<lambda> at 0x10decd2f0>, {4: 1, 1: 2, 2: 2})\n"
     ]
    }
   ],
   "source": [
    "#只出现一次的数字\n",
    "import collections\n",
    "def singleNumber(nums):\n",
    "    nums_dict = collections.defaultdict(lambda:0)\n",
    "    for i in nums:\n",
    "        #if i in nums_dict:\n",
    "            nums_dict[i] += 1\n",
    "    print(nums_dict)\n",
    "singleNumber([2,2,1])\n",
    "singleNumber([4,1,2,1,2])"
   ]
  },
  {
   "cell_type": "code",
   "execution_count": 4,
   "metadata": {},
   "outputs": [],
   "source": [
    "def singleNumber(nums):\n",
    "    res = 0\n",
    "    for i in nums:\n",
    "        res^=i\n",
    "    return res"
   ]
  },
  {
   "cell_type": "code",
   "execution_count": 5,
   "metadata": {},
   "outputs": [
    {
     "data": {
      "text/plain": [
       "4"
      ]
     },
     "execution_count": 5,
     "metadata": {},
     "output_type": "execute_result"
    }
   ],
   "source": [
    "singleNumber([4,1,2,1,2])"
   ]
  },
  {
   "cell_type": "code",
   "execution_count": 6,
   "metadata": {},
   "outputs": [
    {
     "data": {
      "text/plain": [
       "6"
      ]
     },
     "execution_count": 6,
     "metadata": {},
     "output_type": "execute_result"
    }
   ],
   "source": [
    "4^2"
   ]
  },
  {
   "cell_type": "code",
   "execution_count": 7,
   "metadata": {},
   "outputs": [
    {
     "data": {
      "text/plain": [
       "0"
      ]
     },
     "execution_count": 7,
     "metadata": {},
     "output_type": "execute_result"
    }
   ],
   "source": [
    "4^4"
   ]
  },
  {
   "cell_type": "code",
   "execution_count": 8,
   "metadata": {},
   "outputs": [
    {
     "data": {
      "text/plain": [
       "4"
      ]
     },
     "execution_count": 8,
     "metadata": {},
     "output_type": "execute_result"
    }
   ],
   "source": [
    "4^0"
   ]
  },
  {
   "cell_type": "code",
   "execution_count": 11,
   "metadata": {},
   "outputs": [],
   "source": [
    "#求众数\n",
    "def majorityElement(nums):\n",
    "    return sorted(nums)[len(nums)//2]"
   ]
  },
  {
   "cell_type": "code",
   "execution_count": 13,
   "metadata": {},
   "outputs": [
    {
     "data": {
      "text/plain": [
       "3"
      ]
     },
     "execution_count": 13,
     "metadata": {},
     "output_type": "execute_result"
    }
   ],
   "source": [
    "majorityElement([3,2,3])"
   ]
  },
  {
   "cell_type": "code",
   "execution_count": 14,
   "metadata": {},
   "outputs": [
    {
     "data": {
      "text/plain": [
       "2"
      ]
     },
     "execution_count": 14,
     "metadata": {},
     "output_type": "execute_result"
    }
   ],
   "source": [
    "majorityElement([2,2,1,1,1,2,2])"
   ]
  },
  {
   "cell_type": "code",
   "execution_count": 9,
   "metadata": {},
   "outputs": [
    {
     "data": {
      "text/plain": [
       "[2, 2, 2, 3, 4]"
      ]
     },
     "execution_count": 9,
     "metadata": {},
     "output_type": "execute_result"
    }
   ],
   "source": [
    "sorted([2,3,4,2,2])"
   ]
  },
  {
   "cell_type": "code",
   "execution_count": 19,
   "metadata": {},
   "outputs": [],
   "source": [
    "def isPrimes(n):\n",
    "        if n % 2 == 0:\n",
    "            print(n,'is not prime')\n",
    "            return\n",
    "        for i in range(3, int(n**0.5)+1, 2):\n",
    "            if n % i == 0:\n",
    "                print(n,'is not prime')\n",
    "                break\n",
    "        else:\n",
    "            print(n, 'is prime')"
   ]
  },
  {
   "cell_type": "code",
   "execution_count": 20,
   "metadata": {},
   "outputs": [
    {
     "name": "stdout",
     "output_type": "stream",
     "text": [
      "112 is not prime\n",
      "14573 is not prime\n",
      "1257 is not prime\n",
      "101 is prime\n"
     ]
    }
   ],
   "source": [
    "isPrimes(112),\n",
    "isPrimes(14573),\n",
    "isPrimes(1257),\n",
    "isPrimes(101)"
   ]
  },
  {
   "cell_type": "code",
   "execution_count": 1,
   "metadata": {},
   "outputs": [],
   "source": [
    "#搜索二维数组\n",
    "#从左下角开始遍历\n",
    "def searchMatrix(matrix, target):\n",
    "    m = len(matrix)\n",
    "    n = len(matrix[0])\n",
    "    k = 1\n",
    "    while m > 0 and  k < n+1:\n",
    "            if matrix[m-1][k-1] == target:\n",
    "                return True\n",
    "            elif matrix[m-1][k-1] > target:\n",
    "                m -= 1\n",
    "            else:\n",
    "                k += 1\n",
    "    return False"
   ]
  },
  {
   "cell_type": "code",
   "execution_count": 7,
   "metadata": {},
   "outputs": [],
   "source": [
    "#从右上角开始遍历\n",
    "def searchMatrix(matrix, target):\n",
    "    m = len(matrix)\n",
    "    n = len(matrix[0])\n",
    "    i = 0\n",
    "    j = n-1\n",
    "    while i <= m-1 and j >=0:\n",
    "        if matrix[i][j] == target:\n",
    "            return True\n",
    "        elif matrix[i][j] < target:\n",
    "            i += 1\n",
    "        else:\n",
    "            j -= 1\n",
    "    return  False\n",
    "            \n",
    "        "
   ]
  },
  {
   "cell_type": "code",
   "execution_count": 10,
   "metadata": {},
   "outputs": [
    {
     "data": {
      "text/plain": [
       "True"
      ]
     },
     "execution_count": 10,
     "metadata": {},
     "output_type": "execute_result"
    }
   ],
   "source": [
    "matrix = [\n",
    "  [1,   4,  7, 11, 15],\n",
    "  [2,   5,  8, 12, 19],\n",
    "  [3,   6,  9, 16, 22],\n",
    "  [10, 13, 14, 17, 24],\n",
    "  [18, 21, 23, 26, 30]\n",
    "]\n",
    "searchMatrix(matrix, 5)"
   ]
  },
  {
   "cell_type": "code",
   "execution_count": 20,
   "metadata": {},
   "outputs": [],
   "source": [
    "#合并两个有序数组并且，将nums2插入到nums1中\n",
    "def merge(nums1, m ,nums2, n):\n",
    "    if not n:\n",
    "        return nums1\n",
    "    i = 0\n",
    "    j = 0\n",
    "    while i < m+n and j < n:\n",
    "        if nums1[i] < nums2[j] and i < m+j:\n",
    "            i += 1\n",
    "        else:\n",
    "            nums1.insert(i, nums2[j])\n",
    "            nums1.pop()\n",
    "            i += 1\n",
    "            j +=1\n",
    "    print(nums1)        \n",
    "            "
   ]
  },
  {
   "cell_type": "code",
   "execution_count": 21,
   "metadata": {},
   "outputs": [
    {
     "name": "stdout",
     "output_type": "stream",
     "text": [
      "[1, 2, 2, 3, 5, 6]\n"
     ]
    }
   ],
   "source": [
    "merge([1,2,3,0,0,0], 3 ,[2,5,6], 3)\n",
    " "
   ]
  },
  {
   "cell_type": "code",
   "execution_count": 29,
   "metadata": {},
   "outputs": [],
   "source": [
    "#method2移动的次数减少，空间复杂度还是O(1)\n",
    "def merge(nums1, m, nums2, n):\n",
    "    i = m-1\n",
    "    j = n-1\n",
    "    p = n + m -1\n",
    "    if not nums2:\n",
    "        return nums1\n",
    "    if m == 0:\n",
    "        return nums2\n",
    "    while i >=0 and j >=0:\n",
    "        if nums1[i] < nums2[j]:\n",
    "            nums1[p] = nums2[j]\n",
    "            j -= 1\n",
    "        else:\n",
    "            nums1[p] = nums1[i]\n",
    "            i -= 1\n",
    "        p -= 1\n",
    "    return nums1"
   ]
  },
  {
   "cell_type": "code",
   "execution_count": 30,
   "metadata": {},
   "outputs": [
    {
     "data": {
      "text/plain": [
       "[1, 2, 2, 3, 5, 6]"
      ]
     },
     "execution_count": 30,
     "metadata": {},
     "output_type": "execute_result"
    }
   ],
   "source": [
    "merge([1,2,3,0,0,0], 3 ,[2,5,6], 3)"
   ]
  },
  {
   "cell_type": "code",
   "execution_count": 31,
   "metadata": {},
   "outputs": [
    {
     "data": {
      "text/plain": [
       "[1]"
      ]
     },
     "execution_count": 31,
     "metadata": {},
     "output_type": "execute_result"
    }
   ],
   "source": [
    "merge([0], 0, [1], 1)"
   ]
  },
  {
   "cell_type": "code",
   "execution_count": 3,
   "metadata": {},
   "outputs": [
    {
     "name": "stdout",
     "output_type": "stream",
     "text": [
      "[0, 1, 2, 3, 4, 2, 2, 3, 3, 4]\n",
      "5\n"
     ]
    }
   ],
   "source": [
    "#从排序数组中删除重复项\n",
    "#a = [1,1,2]\n",
    "a = [0,0,1,1,1,2,2,3,3,4]\n",
    "def removeDuplicates(nums):\n",
    "    \"\"\"\n",
    "    :type nums: List[int]\n",
    "    :rtype: int\n",
    "    \"\"\"\n",
    "    if not nums:\n",
    "        return 0\n",
    "    i = 0\n",
    "    for j in range(1, len(nums)):\n",
    "        if nums[i] != nums[j]:\n",
    "            i +=1 \n",
    "            nums[i] = nums[j]\n",
    "    return i+1\n",
    "    "
   ]
  },
  {
   "cell_type": "code",
   "execution_count": 7,
   "metadata": {},
   "outputs": [],
   "source": [
    "#两个数组的交集 II\n",
    "def intersect(nums1, nums2):\n",
    "    if nums1 > nums2:\n",
    "        nums1, nums2 = nums2, nums1\n",
    "    nums3 = []\n",
    "    for i in nums1:\n",
    "        if i in nums2:\n",
    "            nums3.append(i)\n",
    "    return nums3"
   ]
  },
  {
   "cell_type": "code",
   "execution_count": 8,
   "metadata": {},
   "outputs": [
    {
     "data": {
      "text/plain": [
       "[2, 2]"
      ]
     },
     "execution_count": 8,
     "metadata": {},
     "output_type": "execute_result"
    }
   ],
   "source": [
    "intersect([1,2,2,1],[2,2])"
   ]
  },
  {
   "cell_type": "code",
   "execution_count": 9,
   "metadata": {},
   "outputs": [
    {
     "data": {
      "text/plain": [
       "[4, 9]"
      ]
     },
     "execution_count": 9,
     "metadata": {},
     "output_type": "execute_result"
    }
   ],
   "source": [
    "intersect([4,9,5], [9,4,9,8,4])"
   ]
  },
  {
   "cell_type": "code",
   "execution_count": 10,
   "metadata": {},
   "outputs": [
    {
     "name": "stdout",
     "output_type": "stream",
     "text": [
      "0\n"
     ]
    }
   ],
   "source": [
    "a ={2:0,3:1}\n",
    "if 2 in a:\n",
    "    print(a[2])"
   ]
  },
  {
   "cell_type": "code",
   "execution_count": null,
   "metadata": {},
   "outputs": [],
   "source": [
    "def removeElement(nums, val):\n",
    "    j = -1\n",
    "    i = 0\n",
    "    while i-j < len(nums):\n",
    "        while True:\n",
    "            if nums[j] != val:\n",
    "                break\n",
    "            j -= 1\n",
    "\n",
    "        if nums[i] == val:\n",
    "            nums[i], nums[j] = nums[j], nums[i]\n",
    "            j -= 1\n",
    "        i += 1\n",
    "            \n",
    "        "
   ]
  },
  {
   "cell_type": "code",
   "execution_count": 13,
   "metadata": {},
   "outputs": [
    {
     "name": "stdout",
     "output_type": "stream",
     "text": [
      "333\n",
      "0\n",
      "333\n",
      "1\n",
      "333\n",
      "2\n"
     ]
    }
   ],
   "source": [
    "i = 1\n",
    "for j in range(3):\n",
    "    while True:\n",
    "        if i == 2:\n",
    "            print('333')\n",
    "            break\n",
    "        i += 1\n",
    "    print(j)"
   ]
  },
  {
   "cell_type": "code",
   "execution_count": 1,
   "metadata": {},
   "outputs": [],
   "source": [
    "def reverseString(s):\n",
    "    mid = int(len(s)/2)\n",
    "    for i in range(mid):\n",
    "        s[i], s[-(i+1)] = s[-(i+1)], s[i]\n",
    "    return s"
   ]
  },
  {
   "cell_type": "code",
   "execution_count": 2,
   "metadata": {},
   "outputs": [
    {
     "data": {
      "text/plain": [
       "['o', 'l', 'l', 'e', 'h']"
      ]
     },
     "execution_count": 2,
     "metadata": {},
     "output_type": "execute_result"
    }
   ],
   "source": [
    "reverseString([\"h\",\"e\",\"l\",\"l\",\"o\"])"
   ]
  },
  {
   "cell_type": "code",
   "execution_count": 3,
   "metadata": {},
   "outputs": [
    {
     "data": {
      "text/plain": [
       "['h', 'a', 'n', 'n', 'a', 'H']"
      ]
     },
     "execution_count": 3,
     "metadata": {},
     "output_type": "execute_result"
    }
   ],
   "source": [
    "reverseString([\"H\",\"a\",\"n\",\"n\",\"a\",\"h\"])"
   ]
  },
  {
   "cell_type": "code",
   "execution_count": 5,
   "metadata": {},
   "outputs": [
    {
     "name": "stdout",
     "output_type": "stream",
     "text": [
      "efdcba\n"
     ]
    }
   ],
   "source": [
    "new = ''\n",
    "for i in 'abcdfe':\n",
    "    new = i + new\n",
    "print(new)"
   ]
  },
  {
   "cell_type": "code",
   "execution_count": 30,
   "metadata": {},
   "outputs": [],
   "source": [
    "def strStr(haystack, needle):\n",
    "    length = len(haystack) - len(needle)\n",
    "    if not needle:\n",
    "        return 0\n",
    "\n",
    "    i = 0\n",
    "    j = 0\n",
    "    while i < length: \n",
    "        while True:\n",
    "            if i < len(haystack) and j < len(needle) and haystack[i] == needle[j] :\n",
    "                j += 1\n",
    "                i += 1\n",
    "            else:\n",
    "                break  \n",
    "        print(i,j)\n",
    "        if j == len(needle):\n",
    "            return i-j\n",
    "        j = 0\n",
    "        i += 1\n",
    "    return -1"
   ]
  },
  {
   "cell_type": "code",
   "execution_count": 31,
   "metadata": {
    "scrolled": true
   },
   "outputs": [
    {
     "name": "stdout",
     "output_type": "stream",
     "text": [
      "0 0\n",
      "1 0\n",
      "4 2\n"
     ]
    },
    {
     "data": {
      "text/plain": [
       "2"
      ]
     },
     "execution_count": 31,
     "metadata": {},
     "output_type": "execute_result"
    }
   ],
   "source": [
    "strStr('hello', 'll')"
   ]
  },
  {
   "cell_type": "code",
   "execution_count": null,
   "metadata": {},
   "outputs": [],
   "source": []
  }
 ],
 "metadata": {
  "kernelspec": {
   "display_name": "Python 3",
   "language": "python",
   "name": "python3"
  },
  "language_info": {
   "codemirror_mode": {
    "name": "ipython",
    "version": 3
   },
   "file_extension": ".py",
   "mimetype": "text/x-python",
   "name": "python",
   "nbconvert_exporter": "python",
   "pygments_lexer": "ipython3",
   "version": "3.6.8"
  }
 },
 "nbformat": 4,
 "nbformat_minor": 2
}
